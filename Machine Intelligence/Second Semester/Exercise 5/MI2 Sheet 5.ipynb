{
 "cells": [
  {
   "cell_type": "markdown",
   "metadata": {},
   "source": [
    "# Belugas on the run - Anna and Leo"
   ]
  },
  {
   "cell_type": "markdown",
   "metadata": {},
   "source": [
    "## Ex. 5.1 Initialisation"
   ]
  },
  {
   "cell_type": "code",
   "execution_count": 1,
   "metadata": {},
   "outputs": [],
   "source": [
    "import numpy as np\n",
    "\n",
    "import matplotlib.pyplot as plt\n",
    "\n",
    "import scipy.io as sio\n",
    "\n",
    "import scipy.io.wavfile\n",
    "\n",
    "from IPython.display import Audio\n"
   ]
  },
  {
   "cell_type": "code",
   "execution_count": 2,
   "metadata": {},
   "outputs": [
    {
     "ename": "OSError",
     "evalue": "sound1.dat not found.",
     "output_type": "error",
     "traceback": [
      "\u001b[0;31m---------------------------------------------------------------------------\u001b[0m",
      "\u001b[0;31mOSError\u001b[0m                                   Traceback (most recent call last)",
      "\u001b[0;32m<ipython-input-2-ba7e3f032a9f>\u001b[0m in \u001b[0;36m<module>\u001b[0;34m\u001b[0m\n\u001b[1;32m      1\u001b[0m \u001b[0;31m#collect the data files sampled at 8192 Hz and contains p = 18000 samples\u001b[0m\u001b[0;34m\u001b[0m\u001b[0;34m\u001b[0m\u001b[0;34m\u001b[0m\u001b[0m\n\u001b[1;32m      2\u001b[0m \u001b[0;34m\u001b[0m\u001b[0m\n\u001b[0;32m----> 3\u001b[0;31m \u001b[0msound_1\u001b[0m \u001b[0;34m=\u001b[0m \u001b[0mnp\u001b[0m\u001b[0;34m.\u001b[0m\u001b[0mloadtxt\u001b[0m\u001b[0;34m(\u001b[0m\u001b[0;34m'sound1.dat'\u001b[0m\u001b[0;34m)\u001b[0m\u001b[0;34m\u001b[0m\u001b[0;34m\u001b[0m\u001b[0m\n\u001b[0m\u001b[1;32m      4\u001b[0m \u001b[0;34m\u001b[0m\u001b[0m\n\u001b[1;32m      5\u001b[0m \u001b[0msound_2\u001b[0m \u001b[0;34m=\u001b[0m \u001b[0mnp\u001b[0m\u001b[0;34m.\u001b[0m\u001b[0mloadtxt\u001b[0m\u001b[0;34m(\u001b[0m\u001b[0;34m'sound2.dat'\u001b[0m\u001b[0;34m)\u001b[0m\u001b[0;34m\u001b[0m\u001b[0;34m\u001b[0m\u001b[0m\n",
      "\u001b[0;32m/opt/anaconda3/lib/python3.7/site-packages/numpy/lib/npyio.py\u001b[0m in \u001b[0;36mloadtxt\u001b[0;34m(fname, dtype, comments, delimiter, converters, skiprows, usecols, unpack, ndmin, encoding, max_rows)\u001b[0m\n\u001b[1;32m    966\u001b[0m             \u001b[0mfname\u001b[0m \u001b[0;34m=\u001b[0m \u001b[0mos_fspath\u001b[0m\u001b[0;34m(\u001b[0m\u001b[0mfname\u001b[0m\u001b[0;34m)\u001b[0m\u001b[0;34m\u001b[0m\u001b[0;34m\u001b[0m\u001b[0m\n\u001b[1;32m    967\u001b[0m         \u001b[0;32mif\u001b[0m \u001b[0m_is_string_like\u001b[0m\u001b[0;34m(\u001b[0m\u001b[0mfname\u001b[0m\u001b[0;34m)\u001b[0m\u001b[0;34m:\u001b[0m\u001b[0;34m\u001b[0m\u001b[0;34m\u001b[0m\u001b[0m\n\u001b[0;32m--> 968\u001b[0;31m             \u001b[0mfh\u001b[0m \u001b[0;34m=\u001b[0m \u001b[0mnp\u001b[0m\u001b[0;34m.\u001b[0m\u001b[0mlib\u001b[0m\u001b[0;34m.\u001b[0m\u001b[0m_datasource\u001b[0m\u001b[0;34m.\u001b[0m\u001b[0mopen\u001b[0m\u001b[0;34m(\u001b[0m\u001b[0mfname\u001b[0m\u001b[0;34m,\u001b[0m \u001b[0;34m'rt'\u001b[0m\u001b[0;34m,\u001b[0m \u001b[0mencoding\u001b[0m\u001b[0;34m=\u001b[0m\u001b[0mencoding\u001b[0m\u001b[0;34m)\u001b[0m\u001b[0;34m\u001b[0m\u001b[0;34m\u001b[0m\u001b[0m\n\u001b[0m\u001b[1;32m    969\u001b[0m             \u001b[0mfencoding\u001b[0m \u001b[0;34m=\u001b[0m \u001b[0mgetattr\u001b[0m\u001b[0;34m(\u001b[0m\u001b[0mfh\u001b[0m\u001b[0;34m,\u001b[0m \u001b[0;34m'encoding'\u001b[0m\u001b[0;34m,\u001b[0m \u001b[0;34m'latin1'\u001b[0m\u001b[0;34m)\u001b[0m\u001b[0;34m\u001b[0m\u001b[0;34m\u001b[0m\u001b[0m\n\u001b[1;32m    970\u001b[0m             \u001b[0mfh\u001b[0m \u001b[0;34m=\u001b[0m \u001b[0miter\u001b[0m\u001b[0;34m(\u001b[0m\u001b[0mfh\u001b[0m\u001b[0;34m)\u001b[0m\u001b[0;34m\u001b[0m\u001b[0;34m\u001b[0m\u001b[0m\n",
      "\u001b[0;32m/opt/anaconda3/lib/python3.7/site-packages/numpy/lib/_datasource.py\u001b[0m in \u001b[0;36mopen\u001b[0;34m(path, mode, destpath, encoding, newline)\u001b[0m\n\u001b[1;32m    267\u001b[0m \u001b[0;34m\u001b[0m\u001b[0m\n\u001b[1;32m    268\u001b[0m     \u001b[0mds\u001b[0m \u001b[0;34m=\u001b[0m \u001b[0mDataSource\u001b[0m\u001b[0;34m(\u001b[0m\u001b[0mdestpath\u001b[0m\u001b[0;34m)\u001b[0m\u001b[0;34m\u001b[0m\u001b[0;34m\u001b[0m\u001b[0m\n\u001b[0;32m--> 269\u001b[0;31m     \u001b[0;32mreturn\u001b[0m \u001b[0mds\u001b[0m\u001b[0;34m.\u001b[0m\u001b[0mopen\u001b[0m\u001b[0;34m(\u001b[0m\u001b[0mpath\u001b[0m\u001b[0;34m,\u001b[0m \u001b[0mmode\u001b[0m\u001b[0;34m,\u001b[0m \u001b[0mencoding\u001b[0m\u001b[0;34m=\u001b[0m\u001b[0mencoding\u001b[0m\u001b[0;34m,\u001b[0m \u001b[0mnewline\u001b[0m\u001b[0;34m=\u001b[0m\u001b[0mnewline\u001b[0m\u001b[0;34m)\u001b[0m\u001b[0;34m\u001b[0m\u001b[0;34m\u001b[0m\u001b[0m\n\u001b[0m\u001b[1;32m    270\u001b[0m \u001b[0;34m\u001b[0m\u001b[0m\n\u001b[1;32m    271\u001b[0m \u001b[0;34m\u001b[0m\u001b[0m\n",
      "\u001b[0;32m/opt/anaconda3/lib/python3.7/site-packages/numpy/lib/_datasource.py\u001b[0m in \u001b[0;36mopen\u001b[0;34m(self, path, mode, encoding, newline)\u001b[0m\n\u001b[1;32m    621\u001b[0m                                       encoding=encoding, newline=newline)\n\u001b[1;32m    622\u001b[0m         \u001b[0;32melse\u001b[0m\u001b[0;34m:\u001b[0m\u001b[0;34m\u001b[0m\u001b[0;34m\u001b[0m\u001b[0m\n\u001b[0;32m--> 623\u001b[0;31m             \u001b[0;32mraise\u001b[0m \u001b[0mIOError\u001b[0m\u001b[0;34m(\u001b[0m\u001b[0;34m\"%s not found.\"\u001b[0m \u001b[0;34m%\u001b[0m \u001b[0mpath\u001b[0m\u001b[0;34m)\u001b[0m\u001b[0;34m\u001b[0m\u001b[0;34m\u001b[0m\u001b[0m\n\u001b[0m\u001b[1;32m    624\u001b[0m \u001b[0;34m\u001b[0m\u001b[0m\n\u001b[1;32m    625\u001b[0m \u001b[0;34m\u001b[0m\u001b[0m\n",
      "\u001b[0;31mOSError\u001b[0m: sound1.dat not found."
     ]
    }
   ],
   "source": [
    "#collect the data files sampled at 8192 Hz and contains p = 18000 samples\n",
    "\n",
    "sound_1 = np.loadtxt('sound1.dat') \n",
    "\n",
    "sound_2 = np.loadtxt('sound2.dat')"
   ]
  },
  {
   "cell_type": "code",
   "execution_count": null,
   "metadata": {},
   "outputs": [],
   "source": [
    "#creating random invertible matrix of shape 2x2\n",
    "\n",
    "A = np.random.rand(2,2)\n"
   ]
  },
  {
   "cell_type": "code",
   "execution_count": null,
   "metadata": {},
   "outputs": [],
   "source": [
    "check =  np.linalg.inv(A) \n",
    "print(check)"
   ]
  },
  {
   "cell_type": "code",
   "execution_count": null,
   "metadata": {},
   "outputs": [],
   "source": [
    "#mix the sources x = As for each sample\n",
    "\n",
    "#create empty holding varibles and combine the sound sources\n",
    "\n",
    "combined_s = np.zeros((2,18000))\n",
    "combined_s[0,:] = sound_1\n",
    "combined_s[1,:] = sound_2\n",
    "\n",
    "x = np.zeros((2,18000))\n",
    "\n",
    "#loop over each sample \n",
    "\n",
    "for index in range(0,18000,1):\n",
    "    x[:,index] = A @ combined_s[:,index]\n",
    "  "
   ]
  },
  {
   "cell_type": "code",
   "execution_count": null,
   "metadata": {},
   "outputs": [],
   "source": [
    "# randomly permute the array x to remove the temporal structure\n",
    "\n",
    "x = x[:, np.random.permutation(x.shape[1])]"
   ]
  },
  {
   "cell_type": "code",
   "execution_count": null,
   "metadata": {},
   "outputs": [],
   "source": [
    "#Calculate the correlations between the sources and the mixtures\n",
    "\n",
    "#generate the covariance matrices between each source and mixture combination and calculating the correlations\n",
    "\n",
    "\n",
    "#signal 1, mixture 1\n",
    "\n",
    "joint_11 = np.zeros((2,18000))\n",
    "joint_11[0,:] = sound_1\n",
    "joint_11[1,:] = x[0,:]\n",
    "\n",
    "cov_11 = np.cov(joint_11)\n",
    "\n",
    "corr_11 = cov_11[0,1]/(cov_11[0,0]*cov_11[1,1])\n",
    "\n",
    "#signal 1, mixture 2\n",
    "\n",
    "joint_12 = np.zeros((2,18000))\n",
    "joint_12[0,:] = sound_1\n",
    "joint_12[1,:] = x[1,:]\n",
    "\n",
    "cov_12 = np.cov(joint_12)\n",
    "\n",
    "corr_12 = cov_12[0,1]/(cov_12[0,0]*cov_12[1,1])\n",
    "\n",
    "#signal 2, mixture 1\n",
    "\n",
    "joint_21 = np.zeros((2,18000))\n",
    "joint_21[0,:] = sound_2\n",
    "joint_21[1,:] = x[0,:]\n",
    "\n",
    "cov_21 = np.cov(joint_21)\n",
    "\n",
    "corr_21 = cov_21[0,1]/(cov_21[0,0]*cov_21[1,1])\n",
    "\n",
    "#signal 2, mixture 2\n",
    "\n",
    "joint_22 = np.zeros((2,18000))\n",
    "joint_22[0,:] = sound_2\n",
    "joint_22[1,:] = x[1,:]\n",
    "\n",
    "cov_22 = np.cov(joint_22)\n",
    "\n",
    "corr_22 = cov_22[0,1]/(cov_22[0,0]*cov_22[1,1])"
   ]
  },
  {
   "cell_type": "code",
   "execution_count": null,
   "metadata": {},
   "outputs": [],
   "source": [
    "center = lambda ls, ms: np.array(list(map(lambda x: x - np.mean(ms, axis = 1), ls.T))).T"
   ]
  },
  {
   "cell_type": "code",
   "execution_count": null,
   "metadata": {},
   "outputs": [],
   "source": [
    "# center the data\n",
    "\n",
    "x_center = center(x,x)\n",
    "\n",
    "print(x.shape[1])"
   ]
  },
  {
   "cell_type": "code",
   "execution_count": null,
   "metadata": {},
   "outputs": [],
   "source": [
    "# initialize the weight matrix\n",
    "\n",
    "W = np.random.rand(2,2)/10\n"
   ]
  },
  {
   "cell_type": "code",
   "execution_count": null,
   "metadata": {},
   "outputs": [],
   "source": [
    "c = np.linalg.inv(W)\n",
    "\n",
    "print(c)"
   ]
  },
  {
   "cell_type": "markdown",
   "metadata": {},
   "source": [
    "# Ex. 5.2: Optimisation"
   ]
  },
  {
   "cell_type": "code",
   "execution_count": null,
   "metadata": {},
   "outputs": [],
   "source": [
    "#matrix version of ICA online learning algorithm \n",
    "\n",
    " \n",
    "\n",
    "def log_fnct(y):\n",
    "    f = 1/(1+np.exp(-y))\n",
    "    return f\n",
    "\n",
    "#standard gradient \n",
    "def delta_w_s(funct, unmixing, sample,eps):\n",
    "    '''matrix form of update rule: takes one of x_alpha at a time'''\n",
    "    w = unmixing.copy()\n",
    "    W_inv = np.linalg.inv(w)\n",
    "s    return d_W\n",
    "\n",
    "#natural gradient\n",
    "def delta_w_n(funct, unmixing, sample, eps):\n",
    "    '''matrix form of update rule: takes one of x_alpha at a time'''\n",
    "    w = unmixing.copy()\n",
    "    I = np.identity(2)\n",
    "    d_W_n = eps*((I + (1-2*funct(w@sample))@((w@sample).T))@w)\n",
    "    return d_W_n\n",
    "\n",
    "def updates(ffunct1, ffunct2, data, UM, eps):\n",
    "    W_final = UM.copy()\n",
    "    counter1 = 0\n",
    "    counter2 = 0\n",
    "    while True:\n",
    "        \n",
    "        for sample_idx in range(0, data.shape[1],1):\n",
    "            counter2 += 1\n",
    "            samples = data[:,sample_idx]\n",
    "            UM_update = ffunct2(ffunct1, W_final, samples, eps)\n",
    "            #if np.any(np.abs(UM_update) < 0.00001):\n",
    "            if counter2 == 5000:\n",
    "                return W_final, counter1, counter2\n",
    "            else:\n",
    "                print(np.min(UM_update), np.max(UM_update))\n",
    "        \n",
    "            W_final += UM_update\n",
    "            eps = 0.9999 * eps\n",
    "        counter1 +=1\n",
    "    \n",
    "            \n",
    "        "
   ]
  },
  {
   "cell_type": "code",
   "execution_count": null,
   "metadata": {},
   "outputs": [],
   "source": [
    "a = np.array([-0.06142323,  0.0431467 ])\n",
    "\n",
    "b = log_fnct(a)\n",
    "\n",
    "print(b)"
   ]
  },
  {
   "cell_type": "code",
   "execution_count": null,
   "metadata": {},
   "outputs": [],
   "source": [
    "print(b)"
   ]
  },
  {
   "cell_type": "code",
   "execution_count": null,
   "metadata": {},
   "outputs": [],
   "source": [
    "\n",
    "\n",
    "epsilon = 0.01\n",
    "\n",
    "\n",
    "updated_W_standard, counters, counters2 = updates(log_fnct, delta_w_s, x_center, W, epsilon)\n",
    "\n",
    "updated_W_natural, countern1, countern2 =  updates(log_fnct, delta_w_n, x_center, W, epsilon)"
   ]
  },
  {
   "cell_type": "code",
   "execution_count": null,
   "metadata": {},
   "outputs": [],
   "source": [
    "(x_center == np.inf).sum()\n",
    "print(counters, counters2,countern1, countern2)"
   ]
  },
  {
   "cell_type": "code",
   "execution_count": null,
   "metadata": {},
   "outputs": [],
   "source": [
    "print(updated_W_standard)\n",
    "print(updated_W_natural)"
   ]
  },
  {
   "cell_type": "code",
   "execution_count": null,
   "metadata": {},
   "outputs": [],
   "source": [
    "# apply the result from both to the data\n",
    "\n",
    "est_s = updated_W_standard@x_center\n",
    "\n",
    "est_n = updated_W_natural@x_center"
   ]
  },
  {
   "cell_type": "code",
   "execution_count": null,
   "metadata": {},
   "outputs": [],
   "source": [
    "#do some checks on it\n",
    "\n",
    "max_s = np.max(combined_s)\n",
    "\n",
    "max_s_est = np.max(est_s)\n",
    "\n",
    "min_s = np.min(combined_s)\n",
    "min_s_est = np.min(est_s)\n",
    " \n",
    "    \n",
    "print(est_s)\n",
    "print(combined_s)\n",
    "\n",
    "print(max_s)\n",
    "print(max_s_est)\n",
    "\n",
    "print(min_s)\n",
    "print(min_s_est)\n",
    "\n",
    "\n",
    "max_s_est2 = np.max(est_n)\n",
    "\n",
    "min_s_est2 = np.min(est_n)\n",
    " \n",
    "    \n",
    "print(est_n)\n",
    "print(combined_s)\n",
    "\n",
    "print(max_s)\n",
    "print(max_s_est2)\n",
    "\n",
    "print(min_s)\n",
    "print(min_s_est2)"
   ]
  },
  {
   "cell_type": "code",
   "execution_count": null,
   "metadata": {},
   "outputs": [],
   "source": [
    "# plot and play original sounds \n",
    "\n",
    "\n",
    "Audio(sound_1, rate=8192)\n",
    "\n",
    "Audio(sound_2, rate=8192)"
   ]
  },
  {
   "cell_type": "code",
   "execution_count": null,
   "metadata": {},
   "outputs": [],
   "source": [
    "#the mixed sources\n",
    "\n",
    "Audio(x_center[0,:], rate=8192)\n"
   ]
  },
  {
   "cell_type": "code",
   "execution_count": null,
   "metadata": {},
   "outputs": [],
   "source": [
    "#the mixed sources\n",
    "\n",
    "Audio(x_center[1,:], rate=8192)\n",
    "\n"
   ]
  },
  {
   "cell_type": "code",
   "execution_count": null,
   "metadata": {},
   "outputs": [],
   "source": [
    "#the estimated sources using standard gradient \n",
    "\n",
    "Audio(est_s[0,:], rate=8192)"
   ]
  },
  {
   "cell_type": "code",
   "execution_count": null,
   "metadata": {},
   "outputs": [],
   "source": [
    "#the estimated sources using standard gradient \n",
    "\n",
    "Audio(est_s[1,:], rate=8192)"
   ]
  },
  {
   "cell_type": "code",
   "execution_count": null,
   "metadata": {},
   "outputs": [],
   "source": [
    "#the estimated sources using standard gradient \n",
    "\n",
    "\n",
    "Audio(est_n[0,:], rate = 8192)"
   ]
  },
  {
   "cell_type": "code",
   "execution_count": null,
   "metadata": {},
   "outputs": [],
   "source": [
    "#the estimated sources using standard gradient \n",
    "\n",
    "Audio(est_n[1,:], rate=8192)"
   ]
  },
  {
   "cell_type": "code",
   "execution_count": null,
   "metadata": {},
   "outputs": [],
   "source": [
    "# I would say...not perfectly unmixed."
   ]
  },
  {
   "cell_type": "code",
   "execution_count": null,
   "metadata": {},
   "outputs": [],
   "source": []
  }
 ],
 "metadata": {
  "kernelspec": {
   "display_name": "Python 3",
   "language": "python",
   "name": "python3"
  },
  "language_info": {
   "codemirror_mode": {
    "name": "ipython",
    "version": 3
   },
   "file_extension": ".py",
   "mimetype": "text/x-python",
   "name": "python",
   "nbconvert_exporter": "python",
   "pygments_lexer": "ipython3",
   "version": "3.7.4"
  }
 },
 "nbformat": 4,
 "nbformat_minor": 4
}
