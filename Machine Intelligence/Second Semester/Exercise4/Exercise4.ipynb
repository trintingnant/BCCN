{
 "cells": [
  {
   "cell_type": "markdown",
   "metadata": {},
   "source": [
    " ## Machine Intelligence Exercise 4: Density transformations & random number generation\n",
    " \n",
    " We are: Belugas on the run (Anna & Leo)"
   ]
  },
  {
   "cell_type": "code",
   "execution_count": 26,
   "metadata": {},
   "outputs": [],
   "source": [
    "import numpy as np\n",
    "import matplotlib.pyplot as plt\n",
    "from scipy.stats import laplace"
   ]
  },
  {
   "cell_type": "markdown",
   "metadata": {},
   "source": [
    "In computing the CDF, we can make use of the fact that the Laplace distribution is symmetric around the origin\n",
    "\n",
    "\\begin{align*}\n",
    "F(x) &= \n",
    "\\int_{-\\infty}^x f(u) du &= \n",
    "\\begin{cases}\n",
    "\\frac{1}{2} \\cdot exp(-\\frac{x-\\mu}{b} &\\text{for } x < \\mu \\\\\n",
    "1 - \\frac{1}{2} exp(-\\frac{x-\\mu}{b} &\\text{for } x \\geq \\mu\n",
    "\\end{cases}\n",
    "\\end{align*}\n",
    "\n",
    "From this we can derive:\n",
    "\n",
    "\\begin{align*}\n",
    "F^{-1}(p) &=\n",
    "\\begin{cases}\n",
    "\\mu - b \\cdot \\ln(2|1 - p|) &\\text{for } x \\geq \\mu \\\\\n",
    "\\mu - b \\cdot \\ln(2y) &\\text{for } x < \\mu\n",
    "\\end{cases}\n",
    "\\end{align*}\n",
    "\n",
    "\n",
    "\n",
    "\n",
    "\n"
   ]
  },
  {
   "cell_type": "code",
   "execution_count": 36,
   "metadata": {},
   "outputs": [
    {
     "data": {
      "text/plain": [
       "<matplotlib.legend.Legend at 0x1a177f7d50>"
      ]
     },
     "execution_count": 36,
     "metadata": {},
     "output_type": "execute_result"
    },
    {
     "data": {
      "image/png": "[encoded data removed]",
      "text/plain": [
       "<Figure size 720x720 with 1 Axes>"
      ]
     },
     "metadata": {
      "needs_background": "light"
     },
     "output_type": "display_data"
    }
   ],
   "source": [
    "#Task(1): Generate samples of Laplacian distribution from uniformly distributed sample:\n",
    "\n",
    "unif = np.random.uniform(0,1,500)\n",
    "\n",
    "#Use hand computed inverse cdf:\n",
    "\n",
    "mu, b = 1,2\n",
    "\n",
    "lapl_invCDF = lambda p: mu - b*np.log(2*(1 - p)) if p >= mu else mu - b*np.log(2*p)\n",
    "\n",
    "result = np.array(list(map(lapl_invCDF, unif)))\n",
    "\n",
    "plt.figure(figsize=(10,10))\n",
    "\n",
    "plt.hist(result, bins=10, density=True, color='coral', alpha=.75, label='sampled distribution')\n",
    "plt.plot(np.arange(0,14,.1), laplace.pdf(np.arange(0,14,.1)), color='tomato', linewidth=4,\\\n",
    "        label='theoretical result')\n",
    "plt.xlabel(\"x\")\n",
    "plt.ylabel(\"p(x)\")\n",
    "plt.title(\"Laplace distribution sampled from uniform distribution\")\n",
    "plt.legend()\n"
   ]
  },
  {
   "cell_type": "markdown",
   "metadata": {},
   "source": [
    "$\\textbf{Exercise 2: Density transformations:}$"
   ]
  },
  {
   "cell_type": "markdown",
   "metadata": {},
   "source": [
    "$\\textbf{Part[a]:}$\n",
    "\n",
    "We can begin by noticing that, for the one-dimensional case, and under the conditions given, we have: $U= u(x) = u \\circ x$ and hence:\n",
    "\n",
    "\\begin{align*}\n",
    "F_U(u) &= P\\{ U \\leq u\\} \\\\\n",
    "&= P\\{U(X) \\leq u\\} \\\\\n",
    "&= P\\{X \\leq U^{-1}(u)\\} \\\\\n",
    "&= F_X(U^{-1}(u)\\}\n",
    "\\end{align*}\n",
    "\n",
    "and hence, by chain rule:\n",
    "\\begin{equation}\n",
    "p_{u(x))}(u) = F_U'(u(x)) = p_x(U^{-1}(u)) \\frac{d}{du} U^{-1}u = p_x(-\\ln(u)) (- \\frac{1}{u})\n",
    "\\end{equation}"
   ]
  },
  {
   "cell_type": "markdown",
   "metadata": {},
   "source": [
    "$\\textbf{Part[b]:}$\n",
    "\n",
    "\n",
    "\n"
   ]
  },
  {
   "cell_type": "markdown",
   "metadata": {},
   "source": [
    "Let $X_1, X_2$ be uniformly distributed random variables $\\in [0,1]^2$. We are given the following transformations:\n",
    "\n",
    "\\begin{equation}\n",
    "U_1 = \\sqrt{-2\\ln X_1} \\cos(2\\pi X_2) = R \\cos(\\Theta)\\\\\n",
    "U_2 = \\sqrt{-2\\ln X_1} \\sin(2\\pi X_2) = R \\sin(\\Theta)\\\\\n",
    "\\end{equation}\n",
    "\n",
    "with R = $\\sqrt{-2\\ln X_1}, \\Theta=2\\pi X_2$. This transformation will be useful, because we can now express the coordinate transformations as transformations Polar and Cartesian coordinates. We start by calculating the densitites for R and $\\Theta$. To do this we calculate and then take the derivative of the the respective cdf. For $\\Theta$ this is straighforward. \n",
    "\\begin{equation}\n",
    "\\textbf{P}[\\Theta \\leq \\theta ] = \\textbf{P}[ X_1 2 \\pi \\leq \\theta ] = \\textbf{P}[ X_1 2 \\leq \\frac{\\theta}{2 \\pi}]\n",
    "\\end{equation}\n",
    "\n",
    "since $X_2$ is uniformaly distributed over [0,1] this equal $\\frac{1}{2 \\pi}$. Hence\n",
    "\\begin{equation}\n",
    "p_{\\theta}(x) = \\frac{1}{2 \\pi}\n",
    "\\end{equation}\n",
    "\n",
    "We do something similar to calculate $p_R(x)$. We have:\n",
    "\n",
    "\\begin{align*}\n",
    "P[R \\leq r] &= P[\\sqrt{-2\\ln X_1} \\leq r^2]\\\\\n",
    "&= P[X_1 \\leq exp(-\\frac{r^2}{2})]\\\\\n",
    "&= 1 - P[X_1 > exp(-\\frac{r^2}{2})]\\\\\n",
    "&\\stackrel{\\ast}{=} 1 - \\int_0^{exp(\\frac{-r}{2})}dt\\\\\n",
    "&= 1 - \\exp(\\frac{-r}{2})\n",
    "\\end{align*}\n",
    "\n",
    "where ($\\ast$) uses the fact that $X_1$ is uniformly distributed.\n",
    "\n",
    "So $p_{\\Theta}=\\exp(\\frac{-r}{2}) \\cdot r$\n",
    "\n",
    "Since $X_1, X_2$ are independent, so are R, $\\Theta$. We thus have:\n",
    "\n",
    "\n",
    "\n",
    "\\begin{equation}\n",
    "p_{R,\\Theta}(s,t) = p_R(s) \\cdot p_{\\Theta}(t) = \\frac{1}{2 \\pi}\\exp(\\frac{-t^2}{2}) \\cdot t\n",
    "\\end{equation}\n",
    "\n",
    "Now, we apply the formula given in the sheet. Since the transformation is $f: (R, \\Theta) \\rightarrow (r\\cos(\\theta),r\\sin(\\theta)$, the transformation is one from Polar to Cartesian coordinates and the respective Jacobian is:\n",
    "\n",
    "\\begin{equation}\n",
    "\\frac{\\partial(x,y)}{\\partial(r, \\theta)}=\n",
    "\\begin{bmatrix}\n",
    "\\cos(\\theta) & -r \\sin(\\theta)\\\\\n",
    "sin(\\theta) & r \\cos(\\theta)\n",
    "\\end{bmatrix}\n",
    "\\end{equation}\n",
    "\n",
    "which has the determinant $r \\cos^2(\\theta) + r \\sin^2(\\theta) = r = \\sqrt{u_1^2 + u_2^2}$ in the Cartesian system. We thus have:\n",
    "\n",
    "\n",
    "\\begin{align*}\n",
    "p_{U(x_1,x_2)}(u_1, u_2) &= \\frac{p_R \\cdot p_{\\Theta}}{r}\\\\\n",
    "&=\\frac{1}{2 \\pi} \\cdot \\exp(-\\frac{u_1^2 + u_2^2}{2})\\\\\n",
    "&= \\frac{1}{\\sqrt{2 \\pi}} \\cdot \\exp(-\\frac{u_1^2}{2}) \\cdot \\frac{1}{\\sqrt{2 \\pi}} \\cdot \\exp(-\\frac{u_2^2}{2})\n",
    "\\end{align*}\n",
    "\n",
    "which is the product of two $\\mathcal{N}_{0,1}$ distributed random variables. Hence, $U_1$ and $U_2$ are independent and normally distributed with zero mean and unit variance."
   ]
  }
 ],
 "metadata": {
  "kernelspec": {
   "display_name": "Python 3",
   "language": "python",
   "name": "python3"
  },
  "language_info": {
   "codemirror_mode": {
    "name": "ipython",
    "version": 3
   },
   "file_extension": ".py",
   "mimetype": "text/x-python",
   "name": "python",
   "nbconvert_exporter": "python",
   "pygments_lexer": "ipython3",
   "version": "3.7.4"
  }
 },
 "nbformat": 4,
 "nbformat_minor": 2
}
