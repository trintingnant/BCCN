{
 "cells": [
  {
   "cell_type": "code",
   "execution_count": 1,
   "metadata": {},
   "outputs": [],
   "source": [
    "import numpy as np\n",
    "import matplotlib.pyplot as plt\n",
    "from more_itertools import locate"
   ]
  },
  {
   "cell_type": "code",
   "execution_count": 103,
   "metadata": {},
   "outputs": [
    {
     "name": "stdout",
     "output_type": "stream",
     "text": [
      "['hello']\n"
     ]
    },
    {
     "name": "stderr",
     "output_type": "stream",
     "text": [
      "/opt/anaconda3/lib/python3.7/site-packages/ipykernel_launcher.py:22: DeprecationWarning: in the future out of bounds indices will raise an error instead of being ignored by `numpy.delete`.\n"
     ]
    }
   ],
   "source": [
    "#Import data:\n",
    "\n",
    "f = open(\"mazes.txt\", 'r')\n",
    "data = f.read()\n",
    "f.close()\n",
    "\n",
    "#Extract the mazes:\n",
    "\n",
    "pad = ''.join(np.repeat('#', 20))\n",
    "\n",
    "data = data.split(pad)\n",
    "\n",
    "mazes = [pad + data[i] + pad for i in range(10) if i % 2 == 1]\n",
    "\n",
    "\n",
    "def find_breaks (maze):\n",
    "    \n",
    "    return list(locate(maze, lambda x: x == 'e'))\n",
    "\n",
    "del_list = find_breaks('hello')\n",
    "\n",
    "hello = np.delete('hello', del_list)\n",
    "\n",
    "print(hello)\n",
    "\n",
    "\n",
    "\n",
    "def build_image (maze):\n",
    "    \n",
    "    del_list = find_breaks(maze)\n",
    "    \n",
    "    image = np.delete(maze, del_list)\n",
    "    \n",
    "    print(image)\n",
    "    \n",
    "    return image, del_list, [maze[i] for i in del_list]\n",
    "\n",
    "\n",
    "\n",
    "\n",
    "\n",
    "\n",
    "\n",
    "\n",
    "\n"
   ]
  },
  {
   "cell_type": "code",
   "execution_count": 97,
   "metadata": {},
   "outputs": [
    {
     "data": {
      "text/plain": [
       "array([3, 4])"
      ]
     },
     "execution_count": 97,
     "metadata": {},
     "output_type": "execute_result"
    }
   ],
   "source": [
    "a = np.array([1,2,3,4])\n",
    "np.delete(a, [0,1])\n"
   ]
  },
  {
   "cell_type": "code",
   "execution_count": 72,
   "metadata": {},
   "outputs": [
    {
     "data": {
      "text/plain": [
       "array([3, 4])"
      ]
     },
     "execution_count": 72,
     "metadata": {},
     "output_type": "execute_result"
    }
   ],
   "source": [
    "np.delete([1,2,3,4], [0,1])"
   ]
  },
  {
   "cell_type": "code",
   "execution_count": null,
   "metadata": {},
   "outputs": [],
   "source": []
  }
 ],
 "metadata": {
  "kernelspec": {
   "display_name": "Python 3",
   "language": "python",
   "name": "python3"
  },
  "language_info": {
   "codemirror_mode": {
    "name": "ipython",
    "version": 3
   },
   "file_extension": ".py",
   "mimetype": "text/x-python",
   "name": "python",
   "nbconvert_exporter": "python",
   "pygments_lexer": "ipython3",
   "version": "3.7.4"
  }
 },
 "nbformat": 4,
 "nbformat_minor": 2
}
