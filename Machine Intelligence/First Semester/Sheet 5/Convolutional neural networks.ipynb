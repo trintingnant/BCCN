{
 "cells": [
  {
   "cell_type": "markdown",
   "metadata": {},
   "source": [
    "## Machine Intelligence 6: Deep Neural Networks\n",
    "Belugas on the run"
   ]
  },
  {
   "cell_type": "code",
   "execution_count": 134,
   "metadata": {},
   "outputs": [
    {
     "name": "stdout",
     "output_type": "stream",
     "text": [
      "Tensorflow version: 2.0.0\n"
     ]
    }
   ],
   "source": [
    "import numpy as np\n",
    "import matplotlib.pyplot as plt\n",
    "import tensorflow as tf\n",
    "print(\"Tensorflow version: \" + tf.__version__)"
   ]
  },
  {
   "cell_type": "code",
   "execution_count": 5,
   "metadata": {},
   "outputs": [],
   "source": [
    "mnist = tf.keras.datasets.mnist"
   ]
  },
  {
   "cell_type": "code",
   "execution_count": 186,
   "metadata": {},
   "outputs": [
    {
     "data": {
      "text/plain": [
       "<matplotlib.image.AxesImage at 0x635857a50>"
      ]
     },
     "execution_count": 186,
     "metadata": {},
     "output_type": "execute_result"
    },
    {
     "data": {
      "image/png": "[encoded data removed]",
      "text/plain": [
       "<Figure size 360x360 with 1 Axes>"
      ]
     },
     "metadata": {
      "needs_background": "light"
     },
     "output_type": "display_data"
    }
   ],
   "source": [
    "(x_train, y_train), (x_test, y_test) = mnist.load_data()\n",
    "x_train, x_test = x_train / 255.0, x_test / 255.0\n",
    "\n",
    "#Just checking out the data:\n",
    "\n",
    "plt.figure(figsize = (5,5))\n",
    "plt.imshow(x_train[np.random.randint(0, len(x_train))], cmap = 'gray')"
   ]
  },
  {
   "cell_type": "code",
   "execution_count": 177,
   "metadata": {
    "scrolled": true
   },
   "outputs": [
    {
     "name": "stdout",
     "output_type": "stream",
     "text": [
      "Model: \"sequential_97\"\n",
      "_________________________________________________________________\n",
      "Layer (type)                 Output Shape              Param #   \n",
      "=================================================================\n",
      "flatten_63 (Flatten)         (None, 784)               0         \n",
      "_________________________________________________________________\n",
      "dense_169 (Dense)            (None, 10)                7850      \n",
      "=================================================================\n",
      "Total params: 7,850\n",
      "Trainable params: 7,850\n",
      "Non-trainable params: 0\n",
      "_________________________________________________________________\n",
      "Train on 60000 samples\n",
      "Epoch 1/17\n",
      "60000/60000 [==============================] - 1s 21us/sample - loss: 0.3950 - accuracy: 0.8872\n",
      "Epoch 2/17\n",
      "60000/60000 [==============================] - 1s 12us/sample - loss: 0.3063 - accuracy: 0.9133\n",
      "Epoch 3/17\n",
      "60000/60000 [==============================] - 1s 12us/sample - loss: 0.2918 - accuracy: 0.9168\n",
      "Epoch 4/17\n",
      "60000/60000 [==============================] - 1s 13us/sample - loss: 0.2848 - accuracy: 0.9199\n",
      "Epoch 5/17\n",
      "60000/60000 [==============================] - 1s 12us/sample - loss: 0.2784 - accuracy: 0.9221\n",
      "Epoch 6/17\n",
      "60000/60000 [==============================] - 1s 12us/sample - loss: 0.2754 - accuracy: 0.9226\n",
      "Epoch 7/17\n",
      "60000/60000 [==============================] - 1s 14us/sample - loss: 0.2726 - accuracy: 0.9238\n",
      "Epoch 8/17\n",
      "60000/60000 [==============================] - 1s 14us/sample - loss: 0.2700 - accuracy: 0.9241\n",
      "Epoch 9/17\n",
      "60000/60000 [==============================] - 1s 13us/sample - loss: 0.2673 - accuracy: 0.9256\n",
      "Epoch 10/17\n",
      "60000/60000 [==============================] - 1s 14us/sample - loss: 0.2661 - accuracy: 0.9258\n",
      "Epoch 11/17\n",
      "60000/60000 [==============================] - 1s 13us/sample - loss: 0.2637 - accuracy: 0.9261\n",
      "Epoch 12/17\n",
      "60000/60000 [==============================] - 1s 14us/sample - loss: 0.2633 - accuracy: 0.9262\n",
      "Epoch 13/17\n",
      "60000/60000 [==============================] - 1s 13us/sample - loss: 0.2618 - accuracy: 0.9271\n",
      "Epoch 14/17\n",
      "60000/60000 [==============================] - 1s 14us/sample - loss: 0.2609 - accuracy: 0.9273\n",
      "Epoch 15/17\n",
      "60000/60000 [==============================] - 1s 13us/sample - loss: 0.2602 - accuracy: 0.9267\n",
      "Epoch 16/17\n",
      "60000/60000 [==============================] - 1s 15us/sample - loss: 0.2580 - accuracy: 0.9277\n",
      "Epoch 17/17\n",
      "60000/60000 [==============================] - 1s 14us/sample - loss: 0.2578 - accuracy: 0.9285\n",
      "60000/1 - 1s - loss: 0.1748 - accuracy: 0.9304\n",
      "10000/1 - 0s - loss: 0.1982 - accuracy: 0.9224\n"
     ]
    },
    {
     "data": {
      "text/plain": [
       "[0.27771653480827807, 0.9224]"
      ]
     },
     "execution_count": 177,
     "metadata": {},
     "output_type": "execute_result"
    }
   ],
   "source": [
    "#Part (1): Train a linear model\n",
    "\n",
    "lin_model = tf.keras.models.Sequential([\n",
    "  tf.keras.layers.Flatten(input_shape=(28, 28)),\n",
    "  tf.keras.layers.Dense(10, activation='softmax',\n",
    "                        kernel_initializer = 'zeros',\n",
    "                        use_bias = True,\n",
    "                        bias_initializer = 'zeros')\n",
    "])\n",
    "\n",
    "lin_model.compile(optimizer='sgd',\n",
    "              loss='sparse_categorical_crossentropy',\n",
    "              metrics=['accuracy'])\n",
    "\n",
    "#Getting summary of the model:\n",
    "\n",
    "lin_model.summary()\n",
    "\n",
    "#Set the learning rate:\n",
    "\n",
    "lin_model.optimizer.lr = .5\n",
    "\n",
    "#Fit the model:\n",
    "\n",
    "lin_model.fit(x_train, y_train, batch_size = 100, epochs = 17)\n",
    "\n",
    "#Evaluate the model:\n",
    "\n",
    "lin_model.evaluate(x_train, y_train, verbose = 2) #on training set\n",
    "lin_model.evaluate(x_test, y_test, verbose=2) #on hold-out set"
   ]
  },
  {
   "cell_type": "code",
   "execution_count": 166,
   "metadata": {},
   "outputs": [
    {
     "data": {
      "text/plain": [
       "[array([[0., 0., 0., ..., 0., 0., 0.],\n",
       "        [0., 0., 0., ..., 0., 0., 0.],\n",
       "        [0., 0., 0., ..., 0., 0., 0.],\n",
       "        ...,\n",
       "        [0., 0., 0., ..., 0., 0., 0.],\n",
       "        [0., 0., 0., ..., 0., 0., 0.],\n",
       "        [0., 0., 0., ..., 0., 0., 0.]], dtype=float32),\n",
       " array([-1.0287154 ,  0.8822517 ,  0.2294641 , -0.6019657 ,  0.10574502,\n",
       "         2.273805  , -0.37636167,  1.3453046 , -2.3290944 , -0.50042796],\n",
       "       dtype=float32)]"
      ]
     },
     "execution_count": 166,
     "metadata": {},
     "output_type": "execute_result"
    }
   ],
   "source": [
    "wghts = lin_model.get_weights()\n",
    "wghts"
   ]
  },
  {
   "cell_type": "markdown",
   "metadata": {},
   "source": [
    "We ran stochastic gradient descent on the training set for $\\frac{10000 \\cdot 100}{60000} \\approx 17$ epochs. The accuracies of the linear model on the test- and hold-out set are comparable. On the test set it has an accuracy of 93.12%, with a performance of 92.46% on the the hold-out set."
   ]
  },
  {
   "cell_type": "code",
   "execution_count": 170,
   "metadata": {},
   "outputs": [
    {
     "name": "stdout",
     "output_type": "stream",
     "text": [
      "Model: \"sequential_90\"\n",
      "_________________________________________________________________\n",
      "Layer (type)                 Output Shape              Param #   \n",
      "=================================================================\n",
      "flatten_56 (Flatten)         (None, 784)               0         \n",
      "_________________________________________________________________\n",
      "dense_156 (Dense)            (None, 1500)              1177500   \n",
      "_________________________________________________________________\n",
      "dense_157 (Dense)            (None, 1500)              2251500   \n",
      "_________________________________________________________________\n",
      "dense_158 (Dense)            (None, 1500)              2251500   \n",
      "_________________________________________________________________\n",
      "dense_159 (Dense)            (None, 10)                15010     \n",
      "=================================================================\n",
      "Total params: 5,695,510\n",
      "Trainable params: 5,695,510\n",
      "Non-trainable params: 0\n",
      "_________________________________________________________________\n"
     ]
    }
   ],
   "source": [
    "#Part (2): Train a Multi-layer Perceptron:\n",
    "\n",
    "#Defining initializers for layers:\n",
    "\n",
    "trunc_normal = tf.keras.initializers.TruncatedNormal(mean=0, stddev=.01)\n",
    "small_bias = tf.keras.initializers.constant(value = .1)\n",
    "\n",
    "adam = tf.keras.optimizers.Adam(learning_rate=.001, \n",
    "                             beta_1= .9, \n",
    "                             beta_2= .999, \n",
    "                             epsilon = 1e-07,\n",
    "                             amsgrad=False)\n",
    "\n",
    "mlp_model = tf.keras.models.Sequential([\n",
    "    tf.keras.layers.Flatten(input_shape=(28, 28)),\n",
    "    tf.keras.layers.Dense(1500, activation= 'relu',\n",
    "                        kernel_initializer = trunc_normal,\n",
    "                        use_bias = True,\n",
    "                        bias_initializer = small_bias),\n",
    "    tf.keras.layers.Dense(1500, activation= 'relu',\n",
    "                        kernel_initializer = trunc_normal,\n",
    "                        use_bias = True,\n",
    "                        bias_initializer = small_bias),\n",
    "    tf.keras.layers.Dense(1500, activation= 'relu',\n",
    "                        kernel_initializer = trunc_normal,\n",
    "                        use_bias = True,\n",
    "                        bias_initializer = small_bias),\n",
    "    tf.keras.layers.Dense(10, activation= 'softmax',\n",
    "                        kernel_initializer = trunc_normal,\n",
    "                        use_bias = True,\n",
    "                        bias_initializer = small_bias)\n",
    "\n",
    " ])\n",
    "\n",
    "new_model = tf.kerals \n",
    "\n",
    "#Summarizing the model:\n",
    "\n",
    "mlp_model.summary()\n",
    "\n",
    "#Weights after training:\n",
    "\n",
    "mlp_wghts = mlp_model.get_weights()\n",
    "#mlp_wghts"
   ]
  },
  {
   "cell_type": "code",
   "execution_count": null,
   "metadata": {},
   "outputs": [],
   "source": [
    "#Compiling the model:\n",
    "\n",
    "mlp_model.compile(optimizer= adam,\n",
    "              loss='sparse_categorical_crossentropy',\n",
    "              metrics=['accuracy'])\n",
    "\n",
    "#Fitting the model:\n",
    "\n",
    "mlp_model.fit(x_train, y_train, batch_size = 100, epochs = 34)\n",
    "\n",
    "#Evaluate the model:\n",
    "\n",
    "mlp_model.evaluate(x_train, y_train, verbose = 2) #on training set\n",
    "mlp_model.evaluate(x_test, y_test, verbose=2) #on hold-out se"
   ]
  },
  {
   "cell_type": "code",
   "execution_count": 87,
   "metadata": {},
   "outputs": [
    {
     "name": "stdout",
     "output_type": "stream",
     "text": [
      "[[-0.00805286  0.00753473  0.00910047 ...  0.01426506 -0.01038765\n",
      "  -0.00814988]\n",
      " [ 0.00776395 -0.00252953 -0.00112258 ... -0.00355989  0.00945012\n",
      "  -0.00298003]\n",
      " [-0.00469809 -0.00160829 -0.00199437 ... -0.01006735  0.0193077\n",
      "  -0.00521336]\n",
      " ...\n",
      " [-0.00416496 -0.01915614 -0.00061498 ...  0.00109299  0.00871983\n",
      "  -0.00250383]\n",
      " [-0.00195093  0.0041697  -0.00619997 ...  0.01167369  0.00381235\n",
      "   0.00070498]\n",
      " [-0.00150265 -0.00027623  0.01187981 ...  0.0183203  -0.00428199\n",
      "   0.00087309]]\n"
     ]
    }
   ],
   "source": [
    "#Get the weight matrix and the trained biases:\n",
    "\n",
    "wght_matr = mlp_model.layers[1].get_weights()[0]\n",
    "bias = mlp_model.layers[1].get_weights()[1]"
   ]
  },
  {
   "cell_type": "code",
   "execution_count": 171,
   "metadata": {},
   "outputs": [
    {
     "name": "stdout",
     "output_type": "stream",
     "text": [
      "Model: \"sequential_91\"\n",
      "_________________________________________________________________\n",
      "Layer (type)                 Output Shape              Param #   \n",
      "=================================================================\n",
      "flatten_57 (Flatten)         (None, 784)               0         \n",
      "_________________________________________________________________\n",
      "dense_160 (Dense)            (None, 1500)              1177500   \n",
      "_________________________________________________________________\n",
      "dropout_12 (Dropout)         (None, 1500)              0         \n",
      "_________________________________________________________________\n",
      "dense_161 (Dense)            (None, 1500)              2251500   \n",
      "_________________________________________________________________\n",
      "dropout_13 (Dropout)         (None, 1500)              0         \n",
      "_________________________________________________________________\n",
      "dense_162 (Dense)            (None, 1500)              2251500   \n",
      "_________________________________________________________________\n",
      "dropout_14 (Dropout)         (None, 1500)              0         \n",
      "_________________________________________________________________\n",
      "dense_163 (Dense)            (None, 10)                15010     \n",
      "=================================================================\n",
      "Total params: 5,695,510\n",
      "Trainable params: 5,695,510\n",
      "Non-trainable params: 0\n",
      "_________________________________________________________________\n"
     ]
    }
   ],
   "source": [
    "#Part (3): \n",
    "\n",
    "mlp_drpt_model = tf.keras.models.Sequential([\n",
    "    tf.keras.layers.Flatten(input_shape=(28, 28)),\n",
    "    tf.keras.layers.Dense(1500, activation= 'relu',\n",
    "                        kernel_initializer = trunc_normal,\n",
    "                        use_bias = True,\n",
    "                        bias_initializer = small_bias),\n",
    "    tf.keras.layers.Dropout(.5),\n",
    "    tf.keras.layers.Dense(1500, activation= 'relu',\n",
    "                        kernel_initializer = trunc_normal,\n",
    "                        use_bias = True,\n",
    "                        bias_initializer = small_bias),\n",
    "    tf.keras.layers.Dropout(.5),\n",
    "    tf.keras.layers.Dense(1500, activation= 'relu',\n",
    "                        kernel_initializer = trunc_normal,\n",
    "                        use_bias = True,\n",
    "                        bias_initializer = small_bias),\n",
    "    tf.keras.layers.Dropout(.5),\n",
    "    tf.keras.layers.Dense(10, activation= 'softmax',\n",
    "                        kernel_initializer = trunc_normal,\n",
    "                        use_bias = True,\n",
    "                        bias_initializer = small_bias)\n",
    "\n",
    " ])      \n",
    "\n",
    "#Summarizing the model:\n",
    "\n",
    "mlp_drpt_model.summary()\n"
   ]
  },
  {
   "cell_type": "code",
   "execution_count": null,
   "metadata": {},
   "outputs": [],
   "source": [
    "#Same old, same old:\n",
    "\n",
    "#Compiling the model:\n",
    "\n",
    "mlp_drpt_model.compile(optimizer= adam,\n",
    "              loss='sparse_categorical_crossentropy',\n",
    "              metrics=['accuracy'])\n",
    "\n",
    "\n",
    "#Fitting the model:\n",
    "\n",
    "mlp_drpt_model.fit(x_train, y_train, batch_size = 100, epochs = 34)\n",
    "\n",
    "#Evaluate the model:\n",
    "\n",
    "mlp_drpt_model.evaluate(x_train, y_train, verbose = 2) #on training set\n",
    "mlp_drpt_model.evaluate(x_test, y_test, verbose=2) #on hold-out set"
   ]
  },
  {
   "cell_type": "code",
   "execution_count": 172,
   "metadata": {},
   "outputs": [
    {
     "name": "stdout",
     "output_type": "stream",
     "text": [
      "Model: \"sequential_92\"\n",
      "_________________________________________________________________\n",
      "Layer (type)                 Output Shape              Param #   \n",
      "=================================================================\n",
      "conv2d_52 (Conv2D)           (None, 28, 28, 32)        832       \n",
      "_________________________________________________________________\n",
      "max_pooling2d_50 (MaxPooling (None, 14, 14, 32)        0         \n",
      "_________________________________________________________________\n",
      "conv2d_53 (Conv2D)           (None, 14, 14, 64)        51264     \n",
      "_________________________________________________________________\n",
      "max_pooling2d_51 (MaxPooling (None, 7, 7, 64)          0         \n",
      "_________________________________________________________________\n",
      "flatten_58 (Flatten)         (None, 3136)              0         \n",
      "_________________________________________________________________\n",
      "dense_164 (Dense)            (None, 10)                31370     \n",
      "=================================================================\n",
      "Total params: 83,466\n",
      "Trainable params: 83,466\n",
      "Non-trainable params: 0\n",
      "_________________________________________________________________\n"
     ]
    }
   ],
   "source": [
    "#Part (4):\n",
    "\n",
    "#Reshaping data, to allow convolution:\n",
    "\n",
    "x_train_conv = x_train.reshape(x_train.shape[0], 28, 28, 1)\n",
    "x_test_conv = x_test.reshape(x_test.shape[0], 28, 28, 1)\n",
    "shape_of_input = (28, 28, 1)\n",
    "\n",
    "#Getting started on the network:\n",
    "\n",
    "conv_model = tf.keras.models.Sequential([\n",
    "    tf.keras.layers.Conv2D(32, (5,5), strides = (1,1), padding = 'same',\n",
    "                           input_shape = shape_of_input,\n",
    "                           activation = 'relu',\n",
    "                           kernel_initializer = trunc_normal,\n",
    "                           use_bias = True,\n",
    "                           bias_initializer = small_bias),\n",
    "    tf.keras.layers.MaxPooling2D((2,2,), strides = (2,2)),\n",
    "    tf.keras.layers.Conv2D(64, (5,5), strides = (1,1), padding = 'same',\n",
    "                           input_shape = shape_of_input,\n",
    "                           activation = 'relu',\n",
    "                           kernel_initializer = trunc_normal,\n",
    "                           use_bias = True,\n",
    "                           bias_initializer = small_bias),\n",
    "    tf.keras.layers.MaxPooling2D((2,2,), strides = (2,2)),\n",
    "    tf.keras.layers.Flatten(), #flatten before feeding to CNN layer\n",
    "    tf.keras.layers.Dense(10, activation= 'softmax',\n",
    "                        kernel_initializer = trunc_normal,\n",
    "                        use_bias = True,\n",
    "                        bias_initializer = small_bias)\n",
    "    \n",
    "])\n",
    "\n",
    "#Get a summary of the model \n",
    "\n",
    "conv_model.summary()"
   ]
  },
  {
   "cell_type": "code",
   "execution_count": null,
   "metadata": {},
   "outputs": [],
   "source": [
    "#Compiling the model:\n",
    "\n",
    "conv_model.compile(optimizer= adam,\n",
    "              loss='sparse_categorical_crossentropy',\n",
    "              metrics=['accuracy'])\n",
    "\n",
    "\n",
    "#Fitting the model:\n",
    "\n",
    "conv_model.fit(x_train_conv, y_train_conv, batch_size = 100, epochs = 34)\n",
    "\n",
    "#Evaluate the model:\n",
    "\n",
    "conv_model.evaluate(x_train_conv, y_train, verbose = 2) #on training set\n",
    "conv_model.evaluate(x_test_conv, y_test, verbose=2) #on hold-out se"
   ]
  },
  {
   "cell_type": "code",
   "execution_count": null,
   "metadata": {},
   "outputs": [],
   "source": [
    "#Part (5) – Compare the results:\n",
    "\n",
    "\n"
   ]
  }
 ],
 "metadata": {
  "kernelspec": {
   "display_name": "Python 3",
   "language": "python",
   "name": "python3"
  },
  "language_info": {
   "codemirror_mode": {
    "name": "ipython",
    "version": 3
   },
   "file_extension": ".py",
   "mimetype": "text/x-python",
   "name": "python",
   "nbconvert_exporter": "python",
   "pygments_lexer": "ipython3",
   "version": "3.7.4"
  }
 },
 "nbformat": 4,
 "nbformat_minor": 2
}
