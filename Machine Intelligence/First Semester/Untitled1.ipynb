{
 "cells": [
  {
   "cell_type": "markdown",
   "metadata": {},
   "source": [
    "## Machine Intelligence 8: Belugas on the run"
   ]
  },
  {
   "cell_type": "code",
   "execution_count": 1,
   "metadata": {},
   "outputs": [],
   "source": [
    "import numpy as np\n",
    "import matplotlib.pyplot as plt"
   ]
  },
  {
   "cell_type": "markdown",
   "metadata": {},
   "source": [
    "$\\textbf{Exercise 1: Training data}$"
   ]
  },
  {
   "cell_type": "code",
   "execution_count": 9,
   "metadata": {},
   "outputs": [
    {
     "ename": "AttributeError",
     "evalue": "module 'numpy.random' has no attribute 'multivariatinormal'",
     "output_type": "error",
     "traceback": [
      "\u001b[0;31m---------------------------------------------------------------------------\u001b[0m",
      "\u001b[0;31mAttributeError\u001b[0m                            Traceback (most recent call last)",
      "\u001b[0;32m<ipython-input-9-c1e7d845b44c>\u001b[0m in \u001b[0;36m<module>\u001b[0;34m\u001b[0m\n\u001b[1;32m     12\u001b[0m \u001b[0;31m#Defining the conditional distributions:\u001b[0m\u001b[0;34m\u001b[0m\u001b[0;34m\u001b[0m\u001b[0;34m\u001b[0m\u001b[0m\n\u001b[1;32m     13\u001b[0m \u001b[0;34m\u001b[0m\u001b[0m\n\u001b[0;32m---> 14\u001b[0;31m \u001b[0mp_0\u001b[0m \u001b[0;34m=\u001b[0m \u001b[0mnp\u001b[0m\u001b[0;34m.\u001b[0m\u001b[0mrandom\u001b[0m\u001b[0;34m.\u001b[0m\u001b[0mmultivariatinormal\u001b[0m\u001b[0;34m(\u001b[0m\u001b[0mmu_1\u001b[0m\u001b[0;34m,\u001b[0m \u001b[0msigma\u001b[0m\u001b[0;34m,\u001b[0m \u001b[0msample_size\u001b[0m \u001b[0;34m)\u001b[0m \u001b[0;34m+\u001b[0m \u001b[0mnp\u001b[0m\u001b[0;34m.\u001b[0m\u001b[0mrandom\u001b[0m\u001b[0;34m.\u001b[0m\u001b[0mnormal\u001b[0m\u001b[0;34m(\u001b[0m\u001b[0mmu_2\u001b[0m\u001b[0;34m,\u001b[0m \u001b[0msigma\u001b[0m\u001b[0;34m,\u001b[0m \u001b[0msample_size\u001b[0m\u001b[0;34m)\u001b[0m\u001b[0;34m\u001b[0m\u001b[0;34m\u001b[0m\u001b[0m\n\u001b[0m\u001b[1;32m     15\u001b[0m \u001b[0mp_0\u001b[0m \u001b[0;34m=\u001b[0m \u001b[0mp_0\u001b[0m \u001b[0;34m/\u001b[0m \u001b[0;36m2\u001b[0m\u001b[0;34m\u001b[0m\u001b[0;34m\u001b[0m\u001b[0m\n\u001b[1;32m     16\u001b[0m \u001b[0;34m\u001b[0m\u001b[0m\n",
      "\u001b[0;31mAttributeError\u001b[0m: module 'numpy.random' has no attribute 'multivariatinormal'"
     ]
    }
   ],
   "source": [
    "sample_size= 60\n",
    "\n",
    "#Defining parameters:\n",
    "\n",
    "mu_1 = np.array([0,1])\n",
    "mu_2 = np.array([1,0])\n",
    "mu_3 = np.array([0,0])\n",
    "mu_4 = np.array([1,1])\n",
    "\n",
    "sigma = np.array([.1,.1])\n",
    "\n",
    "#Defining the conditional distributions:\n",
    "\n",
    "p_0 = np.random.multivariate_normal(m_1, )\n",
    "\n",
    "\n"
   ]
  },
  {
   "cell_type": "code",
   "execution_count": 6,
   "metadata": {},
   "outputs": [
    {
     "name": "stdout",
     "output_type": "stream",
     "text": [
      "[-0.23336352 -1.45038361  0.47435774 -0.64182993  1.07293709 -1.08277119\n",
      "  0.01750239 -1.73869447 -1.07459435  0.85106756  0.6221892   1.03221367\n",
      "  0.59761428  0.5372014   0.84661817 -0.74923814 -0.27010233 -0.64727825\n",
      "  0.54931248  0.52909163  0.55172036 -1.47076254  0.3507725   0.95081072\n",
      " -0.32337274 -1.09872539 -0.40306127 -0.75163537 -0.37385649  2.08504814\n",
      " -1.03706311 -1.78821101 -0.66635012  0.768616    0.42637814  0.04338105\n",
      " -0.45557527 -2.07571884 -0.26809042 -0.47713437  0.20648928  1.71475991\n",
      "  0.01589612 -0.6747087  -0.15985194  0.36432426 -0.44758837 -0.79272809\n",
      "  0.19322902 -0.71102992 -1.32306823  1.25482362 -0.78009663  0.57792448\n",
      " -1.29752897  0.31547373 -0.17751336  1.66460449 -0.31101529  0.15928761]\n"
     ]
    }
   ],
   "source": []
  },
  {
   "cell_type": "raw",
   "metadata": {},
   "source": []
  }
 ],
 "metadata": {
  "kernelspec": {
   "display_name": "Python 3",
   "language": "python",
   "name": "python3"
  },
  "language_info": {
   "codemirror_mode": {
    "name": "ipython",
    "version": 3
   },
   "file_extension": ".py",
   "mimetype": "text/x-python",
   "name": "python",
   "nbconvert_exporter": "python",
   "pygments_lexer": "ipython3",
   "version": "3.7.4"
  }
 },
 "nbformat": 4,
 "nbformat_minor": 2
}
