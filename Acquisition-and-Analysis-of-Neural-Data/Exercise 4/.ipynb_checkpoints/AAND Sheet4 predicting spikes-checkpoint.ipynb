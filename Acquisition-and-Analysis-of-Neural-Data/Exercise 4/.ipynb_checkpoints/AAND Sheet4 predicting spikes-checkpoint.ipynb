{
 "cells": [
  {
   "cell_type": "markdown",
   "metadata": {},
   "source": [
    "# AAND predicting the spiked of a fly neuron "
   ]
  },
  {
   "cell_type": "code",
   "execution_count": 1,
   "metadata": {},
   "outputs": [],
   "source": [
    "import matplotlib.pyplot as plt\n",
    "\n",
    "import numpy as np\n",
    " \n",
    "import scipy.io as sio"
   ]
  },
  {
   "cell_type": "markdown",
   "metadata": {},
   "source": [
    "## 1. Spike-triggered average"
   ]
  },
  {
   "cell_type": "code",
   "execution_count": 2,
   "metadata": {},
   "outputs": [],
   "source": [
    "#collect the data file\n",
    "\n",
    "mat_contents = sio.loadmat(\"c1p8.mat\")"
   ]
  },
  {
   "cell_type": "code",
   "execution_count": 26,
   "metadata": {},
   "outputs": [
    {
     "name": "stdout",
     "output_type": "stream",
     "text": [
      "[0]\n",
      "(600000, 1)\n",
      "[[-111.94824219]\n",
      " [ -81.80664062]\n",
      " [  10.21972656]\n",
      " ...\n",
      " [   9.78515625]\n",
      " [  24.11132812]\n",
      " [  50.25390625]]\n",
      "(600000, 1)\n",
      "53601\n",
      "-0.09428829752604166\n"
     ]
    }
   ],
   "source": [
    "# retrieve spike event vector, 1 where apike occured at k*deltat\n",
    "spike_events = mat_contents[\"rho\"]\n",
    "\n",
    "# retrieve stimulus values\n",
    "\n",
    "stimulus = mat_contents[\"stim\"] #unit: degrees per second\n",
    "\n",
    "\n",
    "total_spikes = np.sum(spike_events) #the total amount of spikes\n",
    "\n",
    "mean_stimulus = np.mean(stimulus) #this is oddly low and negative"
   ]
  },
  {
   "cell_type": "code",
   "execution_count": 27,
   "metadata": {},
   "outputs": [],
   "source": [
    "#Parameters\n",
    "\n",
    "T = 20*60 # data collection time in seconds\n",
    "deltat = 2/1000 #sampling rate in seconds \n",
    "total_tsteps = T/deltat #the amount of time steps in which a spike could have occured: should equal length of spiking event train\n",
    "total_tsteps == spike_events.shape[0] == stimulus.shape[0]\n",
    "\n",
    "\n",
    "tau_max = 300/1000 # maximum value of tau in seconds\n"
   ]
  },
  {
   "cell_type": "code",
   "execution_count": 29,
   "metadata": {},
   "outputs": [],
   "source": [
    "tau_range = range(0, int(tau_max/deltat),1) #range of tau in 2ms time steps from 0 to 300ms\n",
    "spike_TA = np.zeros(len (tau_range)) \n",
    "Spike_events = spike_events.copy()\n",
    "Stimulus = np.zeros(spike_events.shape[0])\n",
    "\n",
    "# calculating the STA by shifting the stimulus events vector by tau and multiplying by the stimulus\n",
    "\n",
    "for tau in tau_range:\n",
    "    Stimulus = Spike_events*stimulus\n",
    "    spike_TA[tau] = np.sum(Stimulus)/total_spikes #calculate the average based on number of spikes, tau can be used as index as it changes by 1 in each loop\n",
    "    \n",
    "    #shift the Spike events vector by 1 (shifting by one in each tau loop = shifting by tau from original vector)\n",
    "    shifted = np.zeros((len(Spike_events),1))\n",
    "    shifted[:-1] = Spike_events[1:]\n",
    "    Spike_events = shifted\n",
    "   \n",
    "    "
   ]
  },
  {
   "cell_type": "code",
   "execution_count": 43,
   "metadata": {},
   "outputs": [
    {
     "data": {
      "image/png": "[encoded data removed]",
      "text/plain": [
       "<Figure size 1080x360 with 1 Axes>"
      ]
     },
     "metadata": {
      "needs_background": "light"
     },
     "output_type": "display_data"
    }
   ],
   "source": [
    "# Plotting \n",
    "\n",
    "tau_plot = range(0,300,2)\n",
    "fig = plt.figure(figsize = (15,5))\n",
    "plt.plot(tau_plot, np.flip(spike_TA)) #tau is in reverse and in ms\n",
    "ax = plt.gca()\n",
    "ax.yaxis.tick_right() # Change ticks from left to right\n",
    "ax.yaxis.set_label_position(\"right\")\n",
    "fig.canvas.draw()\n",
    "locs, labels =  plt.xticks()\n",
    "plt.xticks(locs, labels[::-1]) # Reverse the tick labels \n",
    "plt.xlim([0,300])\n",
    "plt.ylim([-2,35])\n",
    "plt.ylabel('C(tau)')\n",
    "plt.xlabel('Tau [ms]')\n",
    "plt.title('Spike-triggered-average', fontsize=\"15\");\n"
   ]
  },
  {
   "cell_type": "markdown",
   "metadata": {},
   "source": [
    "It's faster because you don't have to loop over spikes anymore. But I tried doing that first and it ran so long I had to stop it and figure something else out. I haven't tried the correlation and if it's even longer I really don't want to. I would guess it's faster to loop over spikes here as the vector includes all the zero events and therefore is much longer (plus it's also longer by default). In the loop you can just ignore the zeros but the correlation would take very long also because it's also because the data collection time is very long - to compute an integral over that, is computationally less efficient. "
   ]
  },
  {
   "cell_type": "markdown",
   "metadata": {},
   "source": [
    "## 2. Linear encoding kernel"
   ]
  },
  {
   "cell_type": "code",
   "execution_count": null,
   "metadata": {},
   "outputs": [],
   "source": []
  }
 ],
 "metadata": {
  "kernelspec": {
   "display_name": "Python 3",
   "language": "python",
   "name": "python3"
  },
  "language_info": {
   "codemirror_mode": {
    "name": "ipython",
    "version": 3
   },
   "file_extension": ".py",
   "mimetype": "text/x-python",
   "name": "python",
   "nbconvert_exporter": "python",
   "pygments_lexer": "ipython3",
   "version": "3.7.4"
  }
 },
 "nbformat": 4,
 "nbformat_minor": 4
}
