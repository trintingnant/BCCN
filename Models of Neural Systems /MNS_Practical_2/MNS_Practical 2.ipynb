{
 "cells": [
  {
   "cell_type": "markdown",
   "metadata": {},
   "source": [
    "MNS Practical_Sheet 2: Leonard v. Hollander"
   ]
  },
  {
   "cell_type": "markdown",
   "metadata": {},
   "source": [
    "Hopfield networks: "
   ]
  },
  {
   "cell_type": "code",
   "execution_count": 1,
   "metadata": {},
   "outputs": [
    {
     "name": "stdout",
     "output_type": "stream",
     "text": [
      "Pattern [ 1 -1  1 -1] is stable and converges to [ 1. -1.  1. -1.]\n",
      "Pattern [-1  1  1  1] is instable and converges to [-1.  1. -1.  1.]\n",
      "Pattern [-1 -1 -1  1] is instable and converges to [-1.  1. -1.  1.]\n"
     ]
    }
   ],
   "source": [
    "import numpy as np\n",
    "import random\n",
    "import matplotlib.pyplot as plt\n",
    "\n",
    "# (a): store the patterns: patterns are stored \n",
    "\n",
    "A = np.array([1,-1,1,-1])\n",
    "B = np.array([-1,1,1,1])\n",
    "C = np.array([-1,-1,-1,1])\n",
    "\n",
    "#Next we determined the weight matrix:\n",
    "\n",
    "def get_wghtmatr (pats):\n",
    "    \n",
    "    \"\"\"\n",
    "    pats: a set of patterns, 2-D array\n",
    "    \n",
    "    \"\"\" \n",
    "    pat_num = len(pats)\n",
    "    pat_dim = len(pats[0])\n",
    "    \n",
    "    temp_matr = np.sum(list(map(lambda X: np.outer(X,X), pats)), axis = 0)\n",
    "    \n",
    "    return temp_matr - pat_num * np.identity(pat_dim)\n",
    "\n",
    "wght_matr = get_wghtmatr([A,B,C])\n",
    "\n",
    "# In order to determine the outputs, what we are doing is simply computing the output of the network\n",
    "# upon presentation of a pattern \n",
    "\n",
    "def hop_out (matr, pat):\n",
    "    \"\"\"\n",
    "    matr: weight matrix \n",
    "    pat: input pattern\n",
    "    \n",
    "    \"\"\"\n",
    "    \n",
    "    return np.sign(np.dot(matr, pat))\n",
    "\n",
    "#Define stability property:\n",
    "\n",
    "is_stable = lambda matr, pat: np.all(hop_out(matr,pat) == pat)\n",
    "\n",
    "for pat in ([A,B,C]):\n",
    "    \n",
    "    print(\"Pattern\", pat,(\"is stable\" if (is_stable(wght_matr, pat)) else \"is instable\"), \n",
    "                           \"and converges to\", hop_out(wght_matr, pat))\n",
    "                                                    \n",
    "        \n",
    "\n",
    "\n"
   ]
  },
  {
   "cell_type": "markdown",
   "metadata": {},
   "source": [
    "This tells us that pattern A is stable, whereas patterns B and C are instable "
   ]
  },
  {
   "cell_type": "code",
   "execution_count": 2,
   "metadata": {},
   "outputs": [
    {
     "name": "stdout",
     "output_type": "stream",
     "text": [
      "[ -8.  -8.  -8.  -8.  -8.  -8.  -8.  -8.  -8. -12. -12. -12. -12. -12.\n",
      " -12.]\n",
      "[ -8.  -8.  -8.  -8.  -8.  -8. -12. -12. -12. -12. -12. -12. -12. -12.\n",
      " -12.]\n",
      "[-12. -12. -12. -12. -12. -12. -12. -12. -12. -12. -12. -12. -12. -12.\n",
      " -12.]\n"
     ]
    }
   ],
   "source": [
    "# (b): calculate the energy: pat_matr [i,j] = s_is_j. \n",
    "\n",
    "def energ (matr, pat):\n",
    "    \n",
    "    \"\"\"\n",
    "    matr: a wight matrix\n",
    "    pat: input pattern\n",
    "    \n",
    "    \"\"\"\n",
    "    \n",
    "    pat_matr = np.outer(pat,pat)\n",
    "    \n",
    "    \n",
    "    return - np.sum(np.multiply(matr, pat_matr))\n",
    "\n",
    "#Calculates the energy in the network over successive presentations of the same pattern \n",
    "#and returns the updated pattern\n",
    "\n",
    "def energ_step (pat, matr, max_steps):\n",
    "    \n",
    "    \"\"\"\n",
    "    pat: input pattern\n",
    "    max_steps: an integer\n",
    "    \n",
    "    \"\"\"\n",
    "    pat_copy = pat.copy()\n",
    "    energ_seq = np.zeros(max_steps)\n",
    "    energ_seq[0] = energ(matr, pat)\n",
    "    \n",
    "    for i in range (1, max_steps):\n",
    "        \n",
    "        if (is_stable(matr, pat)):\n",
    "            \n",
    "            energ_seq[i: max_steps] = energ(matr, pat_copy)\n",
    "            \n",
    "            break\n",
    "            \n",
    "        else:\n",
    "            \n",
    "            j = np.random.choice(np.arange(0,len(pat)))\n",
    "        \n",
    "            pat_copy[j] = np.sign(np.dot(matr[j],pat_copy))\n",
    "            \n",
    "            hop_out(matr, pat_copy)[j]\n",
    "            \n",
    "            energ_seq[i] = energ(matr, pat_copy)\n",
    "                                  \n",
    "    return {'energy': energ_seq, 'pattern': pat_copy}\n",
    "\n",
    "A_steps = energ_step(A,wght_matr,15)['energy']\n",
    "B_steps = energ_step(B,wght_matr,15)['energy']\n",
    "C_steps = energ_step(C,wght_matr,15)['energy']\n",
    "\n",
    "print(C_steps)\n",
    "print(B_steps)\n",
    "print(A_steps)\n",
    "    "
   ]
  },
  {
   "cell_type": "code",
   "execution_count": 3,
   "metadata": {},
   "outputs": [
    {
     "data": {
      "text/plain": [
       "Text(0.5, 15.0, 'steps')"
      ]
     },
     "execution_count": 3,
     "metadata": {},
     "output_type": "execute_result"
    },
    {
     "data": {
      "image/png": "[encoded data removed]",
      "text/plain": [
       "<Figure size 432x288 with 3 Axes>"
      ]
     },
     "metadata": {
      "needs_background": "light"
     },
     "output_type": "display_data"
    }
   ],
   "source": [
    "# Printing the energy_functions:\n",
    "\n",
    "fig, (ax1, ax2, ax3) = plt.subplots(3,1, sharex = True, sharey = True)\n",
    "\n",
    "fig.tight_layout()\n",
    "\n",
    "ax1.plot(A_steps)\n",
    "ax1.set_title(\"Energy of A\")\n",
    "ax1.set_ylabel('energy')\n",
    "ax2.plot(B_steps)\n",
    "ax2.set_title(\"Energy of B\")\n",
    "ax2.set_ylabel('energy')\n",
    "ax3.plot(C_steps)\n",
    "ax3.set_title(\"Energy of C\")\n",
    "ax3.set_ylabel('energy')\n",
    "ax3.set_xlabel('steps')\n"
   ]
  },
  {
   "cell_type": "markdown",
   "metadata": {},
   "source": [
    "Exercise 3:"
   ]
  },
  {
   "cell_type": "code",
   "execution_count": 4,
   "metadata": {},
   "outputs": [
    {
     "ename": "FileNotFoundError",
     "evalue": "[Errno 2] No such file or directory: 'arr_0.npy'",
     "output_type": "error",
     "traceback": [
      "\u001b[0;31m---------------------------------------------------------------------------\u001b[0m",
      "\u001b[0;31mFileNotFoundError\u001b[0m                         Traceback (most recent call last)",
      "\u001b[0;32m<ipython-input-4-d9724b5f2fbf>\u001b[0m in \u001b[0;36m<module>\u001b[0;34m\u001b[0m\n\u001b[1;32m      4\u001b[0m \u001b[0;31m#Part 1: Load the data\u001b[0m\u001b[0;34m\u001b[0m\u001b[0;34m\u001b[0m\u001b[0;34m\u001b[0m\u001b[0m\n\u001b[1;32m      5\u001b[0m \u001b[0;34m\u001b[0m\u001b[0m\n\u001b[0;32m----> 6\u001b[0;31m \u001b[0mdata\u001b[0m \u001b[0;34m=\u001b[0m \u001b[0mnp\u001b[0m\u001b[0;34m.\u001b[0m\u001b[0mload\u001b[0m\u001b[0;34m(\u001b[0m\u001b[0;34m'arr_0.npy'\u001b[0m\u001b[0;34m)\u001b[0m\u001b[0;34m\u001b[0m\u001b[0;34m\u001b[0m\u001b[0m\n\u001b[0m\u001b[1;32m      7\u001b[0m \u001b[0;34m\u001b[0m\u001b[0m\n\u001b[1;32m      8\u001b[0m \u001b[0;31m#Part 2: Compute the weight matrix over all the images @data\u001b[0m\u001b[0;34m\u001b[0m\u001b[0;34m\u001b[0m\u001b[0;34m\u001b[0m\u001b[0m\n",
      "\u001b[0;32m/opt/anaconda3/lib/python3.7/site-packages/numpy/lib/npyio.py\u001b[0m in \u001b[0;36mload\u001b[0;34m(file, mmap_mode, allow_pickle, fix_imports, encoding)\u001b[0m\n\u001b[1;32m    426\u001b[0m         \u001b[0mown_fid\u001b[0m \u001b[0;34m=\u001b[0m \u001b[0;32mFalse\u001b[0m\u001b[0;34m\u001b[0m\u001b[0;34m\u001b[0m\u001b[0m\n\u001b[1;32m    427\u001b[0m     \u001b[0;32melse\u001b[0m\u001b[0;34m:\u001b[0m\u001b[0;34m\u001b[0m\u001b[0;34m\u001b[0m\u001b[0m\n\u001b[0;32m--> 428\u001b[0;31m         \u001b[0mfid\u001b[0m \u001b[0;34m=\u001b[0m \u001b[0mopen\u001b[0m\u001b[0;34m(\u001b[0m\u001b[0mos_fspath\u001b[0m\u001b[0;34m(\u001b[0m\u001b[0mfile\u001b[0m\u001b[0;34m)\u001b[0m\u001b[0;34m,\u001b[0m \u001b[0;34m\"rb\"\u001b[0m\u001b[0;34m)\u001b[0m\u001b[0;34m\u001b[0m\u001b[0;34m\u001b[0m\u001b[0m\n\u001b[0m\u001b[1;32m    429\u001b[0m         \u001b[0mown_fid\u001b[0m \u001b[0;34m=\u001b[0m \u001b[0;32mTrue\u001b[0m\u001b[0;34m\u001b[0m\u001b[0;34m\u001b[0m\u001b[0m\n\u001b[1;32m    430\u001b[0m \u001b[0;34m\u001b[0m\u001b[0m\n",
      "\u001b[0;31mFileNotFoundError\u001b[0m: [Errno 2] No such file or directory: 'arr_0.npy'"
     ]
    }
   ],
   "source": [
    "import os \n",
    "os.getcwd()\n",
    "\n",
    "#Part 1: Load the data\n",
    "\n",
    "data = np.load('arr_0.npy')\n",
    "\n",
    "#Part 2: Compute the weight matrix over all the images @data\n",
    "\n",
    "flat_data = (np.array(list(map(lambda X: np.ndarray.flatten(X), data))))\n",
    "pixel_wghts = get_wghtmatr(flat_data)\n",
    "\n",
    "print(pixel_wghts)\n",
    "\n"
   ]
  },
  {
   "cell_type": "code",
   "execution_count": null,
   "metadata": {},
   "outputs": [],
   "source": [
    "# Part 3: The patterns are drawn from flat_data\n",
    "\n",
    "for pat in flat_data:\n",
    "    \n",
    "     print(\"Pattern\", pat,(\"is stable\" if (np.all(hop_out(pixel_wghts,pat) == pat)) else \"is instable\"), \n",
    "                           \"and converges to\", hop_out(pixel_wghts, pat))\n",
    "    \n",
    "    "
   ]
  },
  {
   "cell_type": "markdown",
   "metadata": {},
   "source": [
    "We can surmise that the third pattern is instable, while all other patterns are stable"
   ]
  },
  {
   "cell_type": "code",
   "execution_count": null,
   "metadata": {},
   "outputs": [],
   "source": [
    "#Part 4: \n",
    "\n",
    "#Generate a random pattern:\n",
    "\n",
    "def run ():\n",
    "    \n",
    "    ran_pat = np.random.choice([-1,1], 1200)\n",
    "    \n",
    "    final_pat = energ_step(ran_pat, pixel_wghts, 5000)['pattern'].reshape((30,40))\n",
    "    \n",
    "    plt.imshow(final_pat)\n",
    "    \n",
    "    return final_pat\n",
    "\n"
   ]
  },
  {
   "cell_type": "markdown",
   "metadata": {},
   "source": [
    "This nicely demonstrates the inner workings of the Hopfield network. The weight matrix defines in an attractor landscape, in which states attract and repel one another. The final image is the attractor closest to the random pattern. The accuracy of the image scales with the number of steps. Since on every iteration we pick only a single entry to update, we need to pick the number of steps such that it is large enough, for every bit x, the probability of that x not being selected is relatively small. "
   ]
  },
  {
   "cell_type": "code",
   "execution_count": null,
   "metadata": {},
   "outputs": [],
   "source": [
    "#We'll try with another random pattern:\n",
    "\n",
    "for i in range (3):\n",
    "\n",
    "    ran_pat = np.random.choice([-1,1], 1200)\n",
    "    pixels = energ_step(ran_pat, pixel_wghts, 5000)\n",
    "    final_pat = pixels['pattern']\n",
    "    energs = pixels['energy']\n",
    "    final_pat = np.reshape(final_pat, (30,40))\n",
    "    ran_pat = np.reshape(ran_pat, (30,40))\n",
    "    \n",
    "    fig, (ax1, ax2, ax3) = plt.subplots(nrows = 1, ncols = 3, figsize = (6,6))\n",
    "\n",
    "    ax1.imshow(ran_pat)\n",
    "    ax1.set_title('Random Pattern')\n",
    "    ax2.imshow(final_pat)\n",
    "    ax2.set_title('Final Pattern')\n",
    "    ax3.plot(energs)\n",
    "    ax3.set_xlabel('Iterations')\n",
    "    ax3.yaxis.set_label_position(\"right\")\n",
    "    ax3.set_ylabel('Energy')\n",
    "    ax3.set_title('Energy over Iterations')\n",
    "    \n",
    "    \n",
    "    plt.subplots_adjust(wspace = 0.8)\n",
    "\n",
    "\n",
    "\n",
    "\n"
   ]
  },
  {
   "cell_type": "code",
   "execution_count": null,
   "metadata": {},
   "outputs": [],
   "source": [
    "#Part 5: Randomly select one of the memory patterns\n",
    "\n",
    "rand_index = np.random.choice(np.arange(0,len(flat_data)))\n",
    "mem = flat_data[rand_index]\n",
    "ran_pat = np.random.choice([-1,1], 1200)\n",
    "ran_pat[0:300] = mem[0:300]\n",
    "\n",
    "pixels = energ_step(ran_pat, pixel_wghts, 10000)\n",
    "final_pat = pixels['pattern']\n",
    "energs = pixels['energy']\n",
    "ran_pat = np.reshape(ran_pat, (30,40))\n",
    "final_pat = np.reshape(final_pat, (30,40))\n",
    "fig, (ax1, ax2, ax3) = plt.subplots(nrows = 1, ncols = 3, figsize = (6,6))\n",
    "\n",
    "ax1.imshow(ran_pat)\n",
    "ax1.set_title('Random Pattern')\n",
    "ax2.imshow(final_pat)\n",
    "ax2.set_title('Final Pattern')\n",
    "ax3.plot(energs)\n",
    "ax3.set_xlabel('Iterations')\n",
    "ax3.yaxis.set_label_position(\"right\")\n",
    "ax3.set_ylabel('Energy')\n",
    "ax3.set_title('Energy over Iterations')\n",
    "    \n",
    "\n"
   ]
  }
 ],
 "metadata": {
  "kernelspec": {
   "display_name": "Python 3",
   "language": "python",
   "name": "python3"
  },
  "language_info": {
   "codemirror_mode": {
    "name": "ipython",
    "version": 3
   },
   "file_extension": ".py",
   "mimetype": "text/x-python",
   "name": "python",
   "nbconvert_exporter": "python",
   "pygments_lexer": "ipython3",
   "version": "3.7.4"
  }
 },
 "nbformat": 4,
 "nbformat_minor": 2
}
