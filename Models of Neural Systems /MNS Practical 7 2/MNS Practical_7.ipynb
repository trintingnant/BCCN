{
 "cells": [
  {
   "cell_type": "markdown",
   "metadata": {},
   "source": [
    "## MNS Practical 7:\n",
    "Leonard Hollander"
   ]
  },
  {
   "cell_type": "code",
   "execution_count": 13,
   "metadata": {},
   "outputs": [],
   "source": [
    "import numpy as np\n",
    "import matplotlib.pyplot as plt\n",
    "import warnings \n",
    "\n",
    "#warnings.filterwarnings('ignore')"
   ]
  },
  {
   "cell_type": "markdown",
   "metadata": {},
   "source": [
    "## Exercise 1: Hodging-Huxley model of action potential generation"
   ]
  },
  {
   "cell_type": "code",
   "execution_count": 14,
   "metadata": {},
   "outputs": [],
   "source": [
    "def alpha_n (V):\n",
    "    \n",
    "    return .01 * (V + 55) / (1 - np.exp(-.1 * (V + 55)))\n",
    "\n",
    "def beta_n (V):\n",
    "\n",
    "    return .125 * np.exp(-.0125 * (V + 65))\n",
    "\n",
    "def alpha_m (V):\n",
    "    \n",
    "    return (.1 * (V + 40)) / (1 - np.exp(-.1 * (V + 40)))\n",
    "\n",
    "def beta_m (V):\n",
    "\n",
    "    return 4 * np.exp(-.0556 * (V + 65))\n",
    "\n",
    "def alpha_h (V):\n",
    "    \n",
    "    return .07 * np.exp(-.05 * (V + 65))\n",
    "\n",
    "def beta_h (V):\n",
    "\n",
    "    return 1 / (1 + np.exp(-.1 * (V + 35)))\n"
   ]
  },
  {
   "cell_type": "code",
   "execution_count": 15,
   "metadata": {},
   "outputs": [],
   "source": [
    "def euler(f_func, x_0, t_max, dt):\n",
    "    \n",
    "    x = x_0\n",
    "    nsteps = int(t_max / dt)\n",
    "    xs = np.zeros(nsteps)\n",
    "    xs[0] = x_0\n",
    "    i = 1\n",
    "    t = 0\n",
    "    \n",
    "    while i < nsteps:\n",
    "        \n",
    "        x = x + f_func(x,t)*dt\n",
    "        xs[i] = x\n",
    "        t += dt\n",
    "        i += 1\n",
    "    \n",
    "    return xs\n"
   ]
  },
  {
   "cell_type": "code",
   "execution_count": 16,
   "metadata": {},
   "outputs": [],
   "source": [
    "#Defining initial conditions:\n",
    "\n",
    "m_0 = .0529\n",
    "h_0 = .5961\n",
    "n_0 = .3177"
   ]
  },
  {
   "cell_type": "code",
   "execution_count": 20,
   "metadata": {},
   "outputs": [],
   "source": [
    "#Potassium constants:\n",
    "\n",
    "E_k = -77 #mV\n",
    "gk_max = 36 #nS\n",
    "\n",
    "#Sodium constants:\n",
    "\n",
    "E_Na = 50\n",
    "gNa_max = 120\n",
    "\n",
    "#Solving the system of ODEs:\n",
    "\n",
    "\"\"\"\n",
    "\n",
    "dm = lambda m, t, V: alpha_m(V) * (1 - m) - beta_m(V) * m\n",
    "m = lambda V: euler(lambda m, t: dm(m,t, V), m_0, 25, .01)\n",
    "\n",
    "dh = lambda h, t, V: alpha_h(V) * (1 - h) - beta_h(V) * h\n",
    "h = lambda V: euler(lambda h, t: dh(h,t, V), h_0, 25, .01)\n",
    "\n",
    "dn = lambda n, t, V: alpha_n(V) * (1 - n) - beta_n(V) * n\n",
    "n = lambda V: euler(lambda n, t: dn(n,t, V), n_0, 25, .01)\n",
    "\n",
    "\"\"\"\n",
    "\n",
    "#Current equations:\n",
    "\n",
    "I_k = lambda n, V: gk_max * np.power(n(V),4) * (V - E_k)\n",
    "I_Na = lambda m, h, V: gNa_max * np.power(m(V),3) * h(V) * (V - E_Na)"
   ]
  },
  {
   "cell_type": "code",
   "execution_count": 27,
   "metadata": {},
   "outputs": [
    {
     "name": "stdout",
     "output_type": "stream",
     "text": [
      "-3.1839\n"
     ]
    }
   ],
   "source": [
    "#Leak current:\n",
    "\n",
    "g_leak = .3\n",
    "E_leak = -54.387\n",
    "\n",
    "#Leak current equation:\n",
    "\n",
    "I_leak = lambda V: g_leak * (V - E_leak)"
   ]
  },
  {
   "cell_type": "markdown",
   "metadata": {},
   "source": [
    "$\\textbf{Part[a]: Simulating the Hodgkin-Huxley model }$"
   ]
  },
  {
   "cell_type": "code",
   "execution_count": null,
   "metadata": {},
   "outputs": [],
   "source": [
    "from scipy.integrate import odeint"
   ]
  },
  {
   "cell_type": "code",
   "execution_count": null,
   "metadata": {},
   "outputs": [],
   "source": [
    "#Defining some Hodgking-Huxley constants:\n",
    "\n",
    "def func (x,t):\n",
    "    \n",
    "    n = x[0]\n",
    "    h = x[1]\n",
    "    m = x[2]\n",
    "    V = x[3]\n",
    "    \n",
    "    #Define temporal dynamics of channel gates:\n",
    "    \n",
    "    dndt = alpha_n(V) * (1 - n) - beta_n(V) * n\n",
    "    dhdt = alpha_h(V) * (1 - h) - beta_h(V) * h\n",
    "    dmdt = alpha_m(V) * (1 - m) - beta_m(V) * m\n",
    "    \n",
    "    #Get the voltage:\n",
    "    \n",
    "    dVdt = -I_Na(m,h, V) -I_k(n, V) - I_leak(V) + I_e\n",
    "    \n",
    "    return [dndt, dhdt, dmdt, dVdt]\n",
    "\n",
    "print(func([n_0, h_0, m_0, -60]))\n",
    "    \n",
    "    \n",
    "    \n",
    "\n",
    "\n",
    "\n"
   ]
  },
  {
   "cell_type": "code",
   "execution_count": null,
   "metadata": {},
   "outputs": [],
   "source": []
  }
 ],
 "metadata": {
  "kernelspec": {
   "display_name": "Python 3",
   "language": "python",
   "name": "python3"
  },
  "language_info": {
   "codemirror_mode": {
    "name": "ipython",
    "version": 3
   },
   "file_extension": ".py",
   "mimetype": "text/x-python",
   "name": "python",
   "nbconvert_exporter": "python",
   "pygments_lexer": "ipython3",
   "version": "3.7.4"
  }
 },
 "nbformat": 4,
 "nbformat_minor": 2
}
