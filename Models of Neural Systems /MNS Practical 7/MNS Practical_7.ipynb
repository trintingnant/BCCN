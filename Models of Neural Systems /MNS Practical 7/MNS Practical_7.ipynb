{
 "cells": [
  {
   "cell_type": "markdown",
   "metadata": {},
   "source": [
    "## MNS Practical 7:\n",
    "Leonard Hollander"
   ]
  },
  {
   "cell_type": "code",
   "execution_count": 1,
   "metadata": {},
   "outputs": [],
   "source": [
    "import numpy as np\n",
    "import matplotlib.pyplot as plt\n",
    "import warnings \n",
    "\n",
    "#warnings.filterwarnings('ignore')"
   ]
  },
  {
   "cell_type": "markdown",
   "metadata": {},
   "source": [
    "## Exercise 1: Hodging-Huxley model of action potential generation"
   ]
  },
  {
   "cell_type": "code",
   "execution_count": 2,
   "metadata": {},
   "outputs": [],
   "source": [
    "def alpha_n (V):\n",
    "    \n",
    "    return .01 * (V + 55) / (1 - np.exp(-.1 * (V + 55)))\n",
    "\n",
    "def beta_n (V):\n",
    "\n",
    "    return .125 * np.exp(-.0125 * (V + 65))\n",
    "\n",
    "def alpha_m (V):\n",
    "    \n",
    "    return (.1 * (V + 40)) / (1 - np.exp(-.1 * (V + 40)))\n",
    "\n",
    "def beta_m (V):\n",
    "\n",
    "    return 4 * np.exp(-.0556 * (V + 65))\n",
    "\n",
    "def alpha_h (V):\n",
    "    \n",
    "    return .07 * np.exp(-.05 * (V + 65))\n",
    "\n",
    "def beta_h (V):\n",
    "\n",
    "    return 1 / (1 + np.exp(-.1 * (V + 35)))\n"
   ]
  },
  {
   "cell_type": "code",
   "execution_count": 3,
   "metadata": {},
   "outputs": [],
   "source": [
    "def euler(f_func, x_0, t_max, dt):\n",
    "    \n",
    "    x = x_0\n",
    "    nsteps = int(t_max / dt)\n",
    "    xs = np.zeros(nsteps)\n",
    "    xs[0] = x_0\n",
    "    i = 1\n",
    "    t = 0\n",
    "    \n",
    "    while i < nsteps:\n",
    "        \n",
    "        x = x + f_func(x,t)*dt\n",
    "        xs[i] = x\n",
    "        t += dt\n",
    "        i += 1\n",
    "    \n",
    "    return xs\n"
   ]
  },
  {
   "cell_type": "code",
   "execution_count": 4,
   "metadata": {},
   "outputs": [],
   "source": [
    "#Defining initial conditions:\n",
    "\n",
    "m_0 = .0529\n",
    "h_0 = .5961\n",
    "n_0 = .3177"
   ]
  },
  {
   "cell_type": "code",
   "execution_count": 5,
   "metadata": {},
   "outputs": [],
   "source": [
    "#Potassium constants:\n",
    "\n",
    "E_k = -77 #mV\n",
    "gk_max = 36 #nS\n",
    "\n",
    "#Sodium constants:\n",
    "\n",
    "E_Na = 50\n",
    "gNa_max = 120\n",
    "\n",
    "#Solving the system of ODEs:\n",
    "\n",
    "\"\"\"\n",
    "\n",
    "dm = lambda m, t, V: alpha_m(V) * (1 - m) - beta_m(V) * m\n",
    "m = lambda V: euler(lambda m, t: dm(m,t, V), m_0, 25, .01)\n",
    "\n",
    "dh = lambda h, t, V: alpha_h(V) * (1 - h) - beta_h(V) * h\n",
    "h = lambda V: euler(lambda h, t: dh(h,t, V), h_0, 25, .01)\n",
    "\n",
    "dn = lambda n, t, V: alpha_n(V) * (1 - n) - beta_n(V) * n\n",
    "n = lambda V: euler(lambda n, t: dn(n,t, V), n_0, 25, .01)\n",
    "\n",
    "\"\"\"\n",
    "\n",
    "#Current equations:\n",
    "\n",
    "I_k = lambda n, V: gk_max * np.power(n(V),4) * (V - E_k)\n",
    "I_Na = lambda m, h, V: gNa_max * np.power(m(V),3) * h(V) * (V - E_Na)"
   ]
  },
  {
   "cell_type": "code",
   "execution_count": 6,
   "metadata": {},
   "outputs": [],
   "source": [
    "#Leak current:\n",
    "\n",
    "g_leak = .3\n",
    "E_leak = -54.387\n",
    "\n",
    "#Leak current equation:\n",
    "\n",
    "I_leak = lambda V: g_leak * (V - E_leak)"
   ]
  },
  {
   "cell_type": "markdown",
   "metadata": {},
   "source": [
    "$\\textbf{Part[a]: Simulating the Hodgkin-Huxley model }$"
   ]
  },
  {
   "cell_type": "code",
   "execution_count": 7,
   "metadata": {},
   "outputs": [],
   "source": [
    "from scipy.integrate import odeint"
   ]
  },
  {
   "cell_type": "code",
   "execution_count": 8,
   "metadata": {},
   "outputs": [
    {
     "ename": "TypeError",
     "evalue": "func() missing 1 required positional argument: 't'",
     "output_type": "error",
     "traceback": [
      "\u001b[0;31m---------------------------------------------------------------------------\u001b[0m",
      "\u001b[0;31mTypeError\u001b[0m                                 Traceback (most recent call last)",
      "\u001b[0;32m<ipython-input-8-7c036b870738>\u001b[0m in \u001b[0;36m<module>\u001b[0;34m\u001b[0m\n\u001b[1;32m     20\u001b[0m     \u001b[0;32mreturn\u001b[0m \u001b[0;34m[\u001b[0m\u001b[0mdndt\u001b[0m\u001b[0;34m,\u001b[0m \u001b[0mdhdt\u001b[0m\u001b[0;34m,\u001b[0m \u001b[0mdmdt\u001b[0m\u001b[0;34m,\u001b[0m \u001b[0mdVdt\u001b[0m\u001b[0;34m]\u001b[0m\u001b[0;34m\u001b[0m\u001b[0;34m\u001b[0m\u001b[0m\n\u001b[1;32m     21\u001b[0m \u001b[0;34m\u001b[0m\u001b[0m\n\u001b[0;32m---> 22\u001b[0;31m \u001b[0mprint\u001b[0m\u001b[0;34m(\u001b[0m\u001b[0mfunc\u001b[0m\u001b[0;34m(\u001b[0m\u001b[0;34m[\u001b[0m\u001b[0mn_0\u001b[0m\u001b[0;34m,\u001b[0m \u001b[0mh_0\u001b[0m\u001b[0;34m,\u001b[0m \u001b[0mm_0\u001b[0m\u001b[0;34m,\u001b[0m \u001b[0;34m-\u001b[0m\u001b[0;36m60\u001b[0m\u001b[0;34m]\u001b[0m\u001b[0;34m)\u001b[0m\u001b[0;34m)\u001b[0m\u001b[0;34m\u001b[0m\u001b[0;34m\u001b[0m\u001b[0m\n\u001b[0m\u001b[1;32m     23\u001b[0m \u001b[0;34m\u001b[0m\u001b[0m\n\u001b[1;32m     24\u001b[0m \u001b[0;34m\u001b[0m\u001b[0m\n",
      "\u001b[0;31mTypeError\u001b[0m: func() missing 1 required positional argument: 't'"
     ]
    }
   ],
   "source": [
    "#Defining some Hodgking-Huxley constants:\n",
    "\n",
    "def func (x,t):\n",
    "    \n",
    "    n = x[0]\n",
    "    h = x[1]\n",
    "    m = x[2]\n",
    "    V = x[3]\n",
    "    \n",
    "    #Define temporal dynamics of channel gates:\n",
    "    \n",
    "    dndt = alpha_n(V) * (1 - n) - beta_n(V) * n\n",
    "    dhdt = alpha_h(V) * (1 - h) - beta_h(V) * h\n",
    "    dmdt = alpha_m(V) * (1 - m) - beta_m(V) * m\n",
    "    \n",
    "    #Get the voltage:\n",
    "    \n",
    "    dVdt = -I_Na(m,h, V) -I_k(n, V) - I_leak(V) + I_e\n",
    "    \n",
    "    return [dndt, dhdt, dmdt, dVdt]\n",
    "\n",
    "print(func([n_0, h_0, m_0, -60]))\n",
    "    \n",
    "    \n",
    "    \n",
    "\n",
    "\n",
    "\n"
   ]
  },
  {
   "cell_type": "code",
   "execution_count": null,
   "metadata": {},
   "outputs": [],
   "source": [
    "#Addendum: Calculate gating dynamics for analytical sheet 9:\n",
    "\n",
    "def m_func(t):\n",
    "    \n",
    "    return .96 * (1 - np.exp(-t/ .25))\n",
    "\n",
    "np.vectorize(m_func)\n",
    "\n",
    "def h_func(t):\n",
    "    \n",
    "    return .6 * np.exp(-t/.84)\n",
    "\n",
    "np.vectorize(h_func)\n",
    "\n",
    "def n_func(t):\n",
    "    \n",
    "    return .89 - .38 * np.exp(-t/1.7)\n",
    "\n",
    "np.vectorize(n_func)\n",
    "\n",
    "gNA_new = 70.7\n",
    "gk_new = 24.3\n",
    "\n",
    "timecourse = np.arange(0,10,.1)\n",
    "\n",
    "plt.plot(timecourse, n_func(timecourse), label = \"n\")\n",
    "plt.plot(timecourse, m_func(timecourse), label = \"m\")\n",
    "plt.plot(timecourse, h_func(timecourse), label = \"h\")\n",
    "plt.legend()\n",
    "\n"
   ]
  },
  {
   "cell_type": "code",
   "execution_count": null,
   "metadata": {},
   "outputs": [],
   "source": [
    "Æ¿¿/#Part(b):\n",
    "\n",
    "def gNA(t):\n",
    "    \n",
    "    return 70.7 * np.power(m_func(t),3) * h_func(t)\n",
    "\n",
    "np.vectorize(gNA)\n",
    "\n",
    "def gK(t):\n",
    "    \n",
    "    return 24.3 * np.power(n_func(t),4)\n",
    "\n",
    "np.vectorize(gK)\n",
    "\n",
    "plt.figure()\n",
    "\n",
    "plt.plot(timecourse, gNA(timecourse), label = \"gNA\")\n",
    "plt.plot(timecourse, gK(timecourse), label = \"gK\")\n",
    "plt.legend()"
   ]
  },
  {
   "cell_type": "code",
   "execution_count": null,
   "metadata": {},
   "outputs": [],
   "source": [
    "print(np.power(.89,4) * 24.3)\n",
    "np.max(gNA(timecourse)), np.argmax(gNA(timecourse))               "
   ]
  },
  {
   "cell_type": "code",
   "execution_count": null,
   "metadata": {},
   "outputs": [],
   "source": [
    "rt f"
   ]
  }
 ],
 "metadata": {
  "kernelspec": {
   "display_name": "Python 3",
   "language": "python",
   "name": "python3"
  },
  "language_info": {
   "codemirror_mode": {
    "name": "ipython",
    "version": 3
   },
   "file_extension": ".py",
   "mimetype": "text/x-python",
   "name": "python",
   "nbconvert_exporter": "python",
   "pygments_lexer": "ipython3",
   "version": "3.7.4"
  }
 },
 "nbformat": 4,
 "nbformat_minor": 2
}
