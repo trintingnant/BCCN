{
 "cells": [
  {
   "cell_type": "markdown",
   "metadata": {},
   "source": [
    "$\\textbf{To begin: A simple model for single sodium channels}$:\n"
   ]
  },
  {
   "cell_type": "code",
   "execution_count": 209,
   "metadata": {},
   "outputs": [],
   "source": [
    "import numpy as np\n",
    "import matplotlib.pyplot as plt"
   ]
  },
  {
   "cell_type": "code",
   "execution_count": 213,
   "metadata": {},
   "outputs": [],
   "source": [
    "#Euler method for solving ODEs:\n",
    "\n",
    "def euler(f_func, x_0, t_max, dt):\n",
    "    \n",
    "    x = x_0\n",
    "    nsteps = int(t_max / dt)\n",
    "    xs = np.zeros(nsteps)\n",
    "    xs[0] = x_0\n",
    "    i = 1\n",
    "    t = 0\n",
    "    \n",
    "    while i < nsteps:\n",
    "        \n",
    "        x = x + f_func(x,t)*dt\n",
    "        xs[i] = x\n",
    "        t += dt\n",
    "        i += 1\n",
    "    \n",
    "    return xs\n",
    "\n",
    "#Importing the gating dynamics of the sodium channel:\n",
    "\n",
    "def alpha (V):\n",
    "    \n",
    "    return .01 * (V + 55) / (1 - np.exp(-.1 * (V + 55)))\n",
    "\n",
    "def beta (V):\n",
    "\n",
    "    return .125 * np.exp(-.0125 * (V + 65))\n",
    "\n",
    "#Solving ODEs for gating dynamics:\n",
    "\n",
    "dn = lambda n, t, V: alpha(V) * (1 - n) - beta(V) * n\n",
    "n = lambda V: euler(lambda n, t: dn(n,t, V), .3177, 25, .01)"
   ]
  },
  {
   "cell_type": "code",
   "execution_count": null,
   "metadata": {},
   "outputs": [],
   "source": [
    "class Ion_channel:\n",
    "    \n",
    "    \"\"\"\n",
    "    Subsumes ion channels of different kinds\n",
    "    @attributes:\n",
    "    numGates: Total number of gates – global attribute\n",
    "    numOpen: Number of open gates\n",
    "    state: state of channel, open or closed\n",
    "    \n",
    "    This is a very simplified model. Later, for better modelling accuracy,\n",
    "    it might be necessary to model each channel gate individually\n",
    "    \"\"\"\n",
    "    \n",
    "    def __init__(self, numOpen):\n",
    "        \n",
    "        numGates = 4\n",
    "        self.numOpen = numOpen\n",
    "        self.numGates = numGates\n",
    "        self.state = \"Open\" if numOpen == self.numGates else \"Closed\"\n",
    "        \n",
    "    #Getter/Setter methods:\n",
    "    \n",
    "    def get_open_channels(self):\n",
    "        return self.numOpen\n",
    "        \n",
    "    def set_open_channels(self, x):\n",
    "        self.numOpen = x\n",
    "        \n",
    "    #Simulate opening/closing of single channel gate:\n",
    "        \n",
    "    def open_gate(self):\n",
    "        \n",
    "        self.numOpen += 1 if self.numOpen != 4 else 0\n",
    "        \n",
    "        if self.numOpen == 4:\n",
    "            self.state = \"Open\"\n",
    "        \n",
    "    def close_gate(self):\n",
    "        \n",
    "        if self.numOpen == 4:\n",
    "            self.state = \"Closed\"\n",
    "        \n",
    "        self.numOpen -= 1 if self.numOpen != 0 else 0 \n",
    "        \n",
    "        \n",
    "    #Simulate voltage-voltage dependent channel state transitions:\n",
    "    \n",
    "    def change_state(self,V):\n",
    "        \n",
    "        \n",
    "        \"\"\"\n",
    "        determines the channel's voltage dependent state transitions,\n",
    "        according to the simple state diagramm 5.12 from Dayan&Abbott.\n",
    "        @params:\n",
    "        self: the channel under consideration\n",
    "        V: the voltage across the membrane\n",
    "        \"\"\"\n",
    "        \n",
    "        k = self.get_open_channels()\n",
    "        kMinus = 4 - k\n",
    "        randNum = np.random.uniform(0,1)\n",
    "        \n",
    "        if randNum > 1 - kMinus * alpha(V):\n",
    "            \n",
    "            self.open_gate()\n",
    "            \n",
    "        if randNum < k * beta(V):\n",
    "            \n",
    "            self.close_gate()\n",
    "        \n",
    "        return self"
   ]
  },
  {
   "cell_type": "code",
   "execution_count": 378,
   "metadata": {},
   "outputs": [
    {
     "name": "stdout",
     "output_type": "stream",
     "text": [
      "[1 1 1 ... 1 1 1]\n"
     ]
    }
   ],
   "source": [
    "#Okay, next we can simulate a lot of different things:\n",
    "\n",
    "\n",
    "def simulate_channel (V, time, dt):\n",
    "    \n",
    "    gates = np.array([None for i in range (int(time / dt))])\n",
    "    i = 0 \n",
    "    \n",
    "    #Initialize channel with random gate configuration:\n",
    "    \n",
    "    chan = Ion_channel(np.random.choice([0,1,2,3,4]))\n",
    "    \n",
    "    while i < len(gates):\n",
    "        \n",
    "        chan = chan.change_state(V)\n",
    "        gates[i] = chan.numOpen\n",
    "        \n",
    "        i += 1 \n",
    "        \n",
    "    gates = np.where(gates >= 4, 1, 0)\n",
    "        \n",
    "    return gates\n",
    "\n",
    "\n",
    "\n",
    "print(simulate_channel (25, 25, .01))"
   ]
  },
  {
   "cell_type": "code",
   "execution_count": 374,
   "metadata": {},
   "outputs": [
    {
     "data": {
      "text/plain": [
       "array([1, 0, 0, 0, 0, 0])"
      ]
     },
     "execution_count": 374,
     "metadata": {},
     "output_type": "execute_result"
    }
   ],
   "source": [
    "gates = np.array([1,2,3,4,5,6])\n",
    "np.where(gates > 1, 0, 1)"
   ]
  },
  {
   "cell_type": "code",
   "execution_count": null,
   "metadata": {},
   "outputs": [],
   "source": []
  },
  {
   "cell_type": "code",
   "execution_count": null,
   "metadata": {},
   "outputs": [],
   "source": []
  },
  {
   "cell_type": "code",
   "execution_count": null,
   "metadata": {},
   "outputs": [],
   "source": []
  }
 ],
 "metadata": {
  "kernelspec": {
   "display_name": "Python 3",
   "language": "python",
   "name": "python3"
  },
  "language_info": {
   "codemirror_mode": {
    "name": "ipython",
    "version": 3
   },
   "file_extension": ".py",
   "mimetype": "text/x-python",
   "name": "python",
   "nbconvert_exporter": "python",
   "pygments_lexer": "ipython3",
   "version": "3.7.4"
  }
 },
 "nbformat": 4,
 "nbformat_minor": 2
}
