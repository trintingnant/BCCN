{
 "cells": [
  {
   "cell_type": "markdown",
   "metadata": {},
   "source": [
    "### Perceptual Decision Making\n",
    "Sudeshna Bora & Leonard Hollander"
   ]
  },
  {
   "cell_type": "code",
   "execution_count": null,
   "metadata": {},
   "outputs": [],
   "source": []
  },
  {
   "cell_type": "code",
   "execution_count": 2,
   "metadata": {},
   "outputs": [],
   "source": [
    "import brian2\n",
    "import brian2tools\n",
    "from neurodynex.competing_populations import decision_making\n",
    "\n",
    "%matplotlib inline"
   ]
  },
  {
   "cell_type": "markdown",
   "metadata": {},
   "source": [
    "$\\textbf{Exercise 13.1: the network implememntation}$\n"
   ]
  },
  {
   "cell_type": "code",
   "execution_count": null,
   "metadata": {},
   "outputs": [],
   "source": []
  },
  {
   "cell_type": "markdown",
   "metadata": {},
   "source": [
    "$\\textbf{Exercise 13.1.1. Question: Understanding Brian2 Monitors}$\n"
   ]
  },
  {
   "cell_type": "code",
   "execution_count": null,
   "metadata": {},
   "outputs": [],
   "source": []
  },
  {
   "cell_type": "code",
   "execution_count": null,
   "metadata": {},
   "outputs": [],
   "source": []
  },
  {
   "cell_type": "code",
   "execution_count": null,
   "metadata": {},
   "outputs": [],
   "source": []
  },
  {
   "cell_type": "code",
   "execution_count": 3,
   "metadata": {},
   "outputs": [],
   "source": [
    "decision_making.sim_decision_making_network??"
   ]
  },
  {
   "cell_type": "code",
   "execution_count": 2,
   "metadata": {
    "scrolled": true
   },
   "outputs": [
    {
     "name": "stdout",
     "output_type": "stream",
     "text": [
      "simulating 480 neurons. Start: Mon Sep 21 16:37:15 2020\n",
      "sim end: Mon Sep 21 16:39:49 2020\n",
      "<class 'brian2.monitors.ratemonitor.PopulationRateMonitor'>\n",
      "simulating 480 neurons. Start: Mon Sep 21 16:39:49 2020\n",
      "sim end: Mon Sep 21 16:41:34 2020\n",
      "<class 'brian2.monitors.ratemonitor.PopulationRateMonitor'>\n",
      "simulating 480 neurons. Start: Mon Sep 21 16:41:34 2020\n",
      "sim end: Mon Sep 21 16:43:10 2020\n",
      "<class 'brian2.monitors.ratemonitor.PopulationRateMonitor'>\n",
      "simulating 480 neurons. Start: Mon Sep 21 16:43:10 2020\n",
      "sim end: Mon Sep 21 16:44:55 2020\n",
      "<class 'brian2.monitors.ratemonitor.PopulationRateMonitor'>\n",
      "simulating 480 neurons. Start: Mon Sep 21 16:44:55 2020\n",
      "sim end: Mon Sep 21 16:46:45 2020\n",
      "<class 'brian2.monitors.ratemonitor.PopulationRateMonitor'>\n",
      "simulating 480 neurons. Start: Mon Sep 21 16:46:45 2020\n",
      "sim end: Mon Sep 21 16:48:24 2020\n",
      "<class 'brian2.monitors.ratemonitor.PopulationRateMonitor'>\n",
      "simulating 480 neurons. Start: Mon Sep 21 16:48:24 2020\n",
      "sim end: Mon Sep 21 16:50:07 2020\n",
      "<class 'brian2.monitors.ratemonitor.PopulationRateMonitor'>\n",
      "simulating 480 neurons. Start: Mon Sep 21 16:50:07 2020\n",
      "sim end: Mon Sep 21 16:51:39 2020\n",
      "<class 'brian2.monitors.ratemonitor.PopulationRateMonitor'>\n"
     ]
    }
   ],
   "source": [
    "import brian2 as b2\n",
    "from neurodynex.tools import plot_tools\n",
    "from neurodynex.competing_populations import decision_making\n",
    "import matplotlib.pyplot as plt\n",
    "import numpy as np\n",
    "\n",
    "\n",
    "for c in np.arange(-.1, .61, .1):\n",
    "\n",
    "    results = decision_making.sim_decision_making_network(t_stimulus_start= 50. * b2.ms,\n",
    "                                                      coherence_level=c, max_sim_time=1000. * b2.ms)\n",
    "    print(type(results[\"rate_monitor_A\"]))\n",
    "    print(type(results[\"rate_monitor_B\"]))\n",
    "   \n",
    "    \n",
    "    "
   ]
  },
  {
   "cell_type": "markdown",
   "metadata": {},
   "source": [
    "\\textbf{}"
   ]
  },
  {
   "cell_type": "code",
   "execution_count": null,
   "metadata": {
    "scrolled": true
   },
   "outputs": [],
   "source": [
    "avg_window_width = 123*b2.ms\n",
    "sr = results[\"rate_monitor_A\"].smooth_rate(window=\"flat\", width=avg_window_width)/b2.Hz"
   ]
  },
  {
   "cell_type": "code",
   "execution_count": null,
   "metadata": {},
   "outputs": [],
   "source": [
    "def plot_dSpace (r_mon1, \n",
    "                 r_mon2, \n",
    "                 avg_window_width: float=avg_window_width) \n",
    "-> None:\n",
    "    \n",
    "    \n",
    "    m1 = r_mon1.smooth_rate(\"window\"=flat, width=avg_window_width/b2.Hz)\n",
    "    m2 = r_mon2.smooth_rate(\"window\"=flat, width=avg_window_width/b2.Hz)\n",
    "\n",
    "    plt.show(m1,m2)\n",
    "    \n",
    "    return None\n",
    "\n",
    "plot_dSpace(sr,sr2)\n"
   ]
  }
 ],
 "metadata": {
  "kernelspec": {
   "display_name": "Python 3",
   "language": "python",
   "name": "python3"
  },
  "language_info": {
   "codemirror_mode": {
    "name": "ipython",
    "version": 3
   },
   "file_extension": ".py",
   "mimetype": "text/x-python",
   "name": "python",
   "nbconvert_exporter": "python",
   "pygments_lexer": "ipython3",
   "version": "3.7.6"
  }
 },
 "nbformat": 4,
 "nbformat_minor": 4
}
